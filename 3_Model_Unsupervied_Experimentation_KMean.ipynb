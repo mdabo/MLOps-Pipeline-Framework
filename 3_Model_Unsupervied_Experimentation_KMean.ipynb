{
 "cells": [
  {
   "cell_type": "markdown",
   "id": "4930a224-5d95-4f92-876f-024dc9f1dbd8",
   "metadata": {},
   "source": [
    "1. Setup and Imports"
   ]
  },
  {
   "cell_type": "code",
   "execution_count": 1,
   "id": "6ade7a71-868b-43f7-942d-7f0bf3a24e71",
   "metadata": {},
   "outputs": [],
   "source": [
    "import sys\n",
    "from pathlib import Path\n",
    "import yaml\n",
    "import pandas as pd\n",
    "import numpy as np\n",
    "from datetime import datetime\n",
    "import matplotlib.pyplot as plt\n",
    "import seaborn as sns\n",
    "\n",
    "# Add project root to path\n",
    "project_root = str(Path.cwd().parent)\n",
    "if project_root not in sys.path:\n",
    "    sys.path.append(project_root)\n",
    "\n",
    "# Import your modules\n",
    "from src.data.data_processing import DataProcessor\n",
    "from src.models.model_training import ModelTrainer\n",
    "\n",
    "# Load base configuration\n",
    "with open('../configs/config.yml', 'r') as f:\n",
    "    base_config = yaml.safe_load(f)"
   ]
  },
  {
   "cell_type": "markdown",
   "id": "0192c66c-9f98-452a-bb2c-1fc78b12b443",
   "metadata": {},
   "source": [
    "2. Load Processed Data"
   ]
  },
  {
   "cell_type": "code",
   "execution_count": 2,
   "id": "8799d636-ec04-422c-84b3-9b0e408e5c2e",
   "metadata": {},
   "outputs": [],
   "source": [
    "# Load the already processed data\n",
    "processed_data_path = base_config['data']['processed_data_path']\n",
    "raw_data_file_name = base_config['data']['raw_data_file_name']\n",
    "df = pd.read_csv(f\"{processed_data_path}processed_{raw_data_file_name}\")\n",
    "\n",
    "# Get target column\n",
    "target_column_name = base_config['data']['raw_data_target_column']['name']\n",
    "if base_config['data']['raw_data_target_column']['type'] == 'categorical':\n",
    "    target_column_name = f'{target_column_name}_categorical_encoded'\n",
    "\n",
    "# Prepare data\n",
    "X = df.drop(columns=[target_column_name])\n",
    "y = df[target_column_name]"
   ]
  },
  {
   "cell_type": "markdown",
   "id": "3aec939c-469e-4e41-8c74-c23f9418d2fe",
   "metadata": {},
   "source": [
    "3. Experiment: Different Model Configurations"
   ]
  },
  {
   "cell_type": "code",
   "execution_count": 3,
   "id": "d727b1fd-d61f-4f49-9122-bf2ef58de162",
   "metadata": {},
   "outputs": [
    {
     "name": "stdout",
     "output_type": "stream",
     "text": [
      "\n",
      " MODEL TRAINER: SUPERVISED_CLASSIFICATION algorithm will be used\n",
      "/n MODEL FACTORY: Random Forest Classifier will be used for training with the following parameters: {'n_estimators': 100, 'max_depth': 10, 'random_state': 42, 'min_samples_split': 2}\n",
      "\n",
      "Experiment: Baseline Model\n",
      "Parameters: {'n_estimators': 100, 'max_depth': 10, 'min_samples_split': 2}\n",
      "Metrics: {'accuracy': 0.4742585525875343, 'precision': 0.5616973284090816, 'recall': 0.4742585525875343, 'f1': 0.42512487266649046}\n",
      "\n",
      " MODEL TRAINER: SUPERVISED_CLASSIFICATION algorithm will be used\n",
      "/n MODEL FACTORY: Random Forest Classifier will be used for training with the following parameters: {'n_estimators': 100, 'max_depth': 20, 'random_state': 42, 'min_samples_split': 2}\n",
      "\n",
      "Experiment: Deep Trees Model\n",
      "Parameters: {'n_estimators': 100, 'max_depth': 20, 'min_samples_split': 2}\n",
      "Metrics: {'accuracy': 0.5655084689027248, 'precision': 0.6253368495241471, 'recall': 0.5655084689027248, 'f1': 0.5401218452973682}\n",
      "\n",
      " MODEL TRAINER: SUPERVISED_CLASSIFICATION algorithm will be used\n",
      "/n MODEL FACTORY: Random Forest Classifier will be used for training with the following parameters: {'n_estimators': 200, 'max_depth': 10, 'random_state': 42, 'min_samples_split': 2}\n",
      "\n",
      "Experiment: More Trees Model\n",
      "Parameters: {'n_estimators': 200, 'max_depth': 10, 'min_samples_split': 2}\n",
      "Metrics: {'accuracy': 0.4750619267590547, 'precision': 0.5625635164657208, 'recall': 0.4750619267590547, 'f1': 0.4261006045930984}\n"
     ]
    },
    {
     "data": {
      "text/plain": [
       "[{'experiment_name': 'Baseline Model',\n",
       "  'params': {'n_estimators': 100, 'max_depth': 10, 'min_samples_split': 2},\n",
       "  'metrics': {'accuracy': 0.4742585525875343,\n",
       "   'precision': 0.5616973284090816,\n",
       "   'recall': 0.4742585525875343,\n",
       "   'f1': 0.42512487266649046},\n",
       "  'trainer': <src.models.model_training.ModelTrainer at 0x15f91bdd0>},\n",
       " {'experiment_name': 'Deep Trees Model',\n",
       "  'params': {'n_estimators': 100, 'max_depth': 20, 'min_samples_split': 2},\n",
       "  'metrics': {'accuracy': 0.5655084689027248,\n",
       "   'precision': 0.6253368495241471,\n",
       "   'recall': 0.5655084689027248,\n",
       "   'f1': 0.5401218452973682},\n",
       "  'trainer': <src.models.model_training.ModelTrainer at 0x15f63b9b0>},\n",
       " {'experiment_name': 'More Trees Model',\n",
       "  'params': {'n_estimators': 200, 'max_depth': 10, 'min_samples_split': 2},\n",
       "  'metrics': {'accuracy': 0.4750619267590547,\n",
       "   'precision': 0.5625635164657208,\n",
       "   'recall': 0.4750619267590547,\n",
       "   'f1': 0.4261006045930984},\n",
       "  'trainer': <src.models.model_training.ModelTrainer at 0x15f0b8d70>}]"
      ]
     },
     "execution_count": 3,
     "metadata": {},
     "output_type": "execute_result"
    }
   ],
   "source": [
    "def run_experiment(config_variations, X, y):\n",
    "    \"\"\"Run experiments with different model configurations.\"\"\"\n",
    "    results = []\n",
    "    \n",
    "    for variant in config_variations:\n",
    "        # Create new config for this experiment\n",
    "        experiment_config = base_config.copy()\n",
    "        experiment_config['training']['model']['params'].update(variant['params'])\n",
    "        \n",
    "        # Train model\n",
    "        trainer = ModelTrainer(experiment_config)\n",
    "        metrics = trainer.train_model(X, y)\n",
    "        \n",
    "        # Store results\n",
    "        results.append({\n",
    "            'experiment_name': variant['name'],\n",
    "            'params': variant['params'],\n",
    "            'metrics': metrics,\n",
    "            'trainer': trainer\n",
    "        })\n",
    "        \n",
    "        print(f\"\\nExperiment: {variant['name']}\")\n",
    "        print(\"Parameters:\", variant['params'])\n",
    "        print(\"Metrics:\", metrics)\n",
    "    \n",
    "    return results\n",
    "\n",
    "# Define different configurations to try\n",
    "config_variations = [\n",
    "    {\n",
    "        'name': 'Basic Clustering',\n",
    "        'params': {\n",
    "            'n_clusters': 3,             # Number of clusters to form\n",
    "            'init': 'k-means++',         # Method for initialization\n",
    "            'max_iter': 300,             # Maximum iterations for a single run\n",
    "            'n_init': 10                 # Number of times to run with different centroid seeds\n",
    "        }\n",
    "    },\n",
    "    {\n",
    "        'name': 'More Clusters',\n",
    "        'params': {\n",
    "            'n_clusters': 5,\n",
    "            'init': 'k-means++',\n",
    "            'max_iter': 500,\n",
    "            'n_init': 20\n",
    "        }\n",
    "    }\n",
    "]\n",
    "\n",
    "# Run experiments\n",
    "experiment_results = run_experiment(config_variations, X, y)\n",
    "\n",
    "experiment_results"
   ]
  },
  {
   "cell_type": "markdown",
   "id": "66d9bf36-6579-43db-93f2-ed87f2b31df3",
   "metadata": {},
   "source": [
    "4. Analyze Results"
   ]
  },
  {
   "cell_type": "code",
   "execution_count": 4,
   "id": "512bfba6-8f4d-4c6e-84cd-5f8376d076a9",
   "metadata": {},
   "outputs": [
    {
     "data": {
      "image/png": "[encoded data removed]",
      "text/plain": [
       "<Figure size 1200x500 with 2 Axes>"
      ]
     },
     "metadata": {},
     "output_type": "display_data"
    }
   ],
   "source": [
    "# Create comparison visualizations\n",
    "def plot_experiment_comparisons(results):\n",
    "    # Extract metrics for comparison\n",
    "    experiment_names = [r['experiment_name'] for r in results]\n",
    "    accuracies = [r['metrics'].get('accuracy', 0) for r in results]\n",
    "    f1_scores = [r['metrics'].get('f1', 0) for r in results]\n",
    "    \n",
    "    # Plot comparisons\n",
    "    plt.figure(figsize=(12, 5))\n",
    "    \n",
    "    plt.subplot(1, 2, 1)\n",
    "    plt.bar(experiment_names, accuracies)\n",
    "    plt.title('Accuracy Comparison')\n",
    "    plt.xticks(rotation=45)\n",
    "    \n",
    "    plt.subplot(1, 2, 2)\n",
    "    plt.bar(experiment_names, f1_scores)\n",
    "    plt.title('F1 Score Comparison')\n",
    "    plt.xticks(rotation=45)\n",
    "    \n",
    "    plt.tight_layout()\n",
    "    plt.show()\n",
    "\n",
    "plot_experiment_comparisons(experiment_results)"
   ]
  },
  {
   "cell_type": "code",
   "execution_count": null,
   "id": "f0f9ba27-c846-40d2-977d-c84b43b35b07",
   "metadata": {},
   "outputs": [],
   "source": []
  }
 ],
 "metadata": {
  "kernelspec": {
   "display_name": "Python 3 (ipykernel)",
   "language": "python",
   "name": "python3"
  },
  "language_info": {
   "codemirror_mode": {
    "name": "ipython",
    "version": 3
   },
   "file_extension": ".py",
   "mimetype": "text/x-python",
   "name": "python",
   "nbconvert_exporter": "python",
   "pygments_lexer": "ipython3",
   "version": "3.12.7"
  }
 },
 "nbformat": 4,
 "nbformat_minor": 5
}
