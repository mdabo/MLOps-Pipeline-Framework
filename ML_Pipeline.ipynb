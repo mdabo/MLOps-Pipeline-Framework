{
 "cells": [
  {
   "cell_type": "code",
   "execution_count": 1,
   "id": "bea50913-1d0b-49a0-ac58-3a710325e755",
   "metadata": {},
   "outputs": [
    {
     "data": {
      "text/html": [
       "<pre style=\"white-space:pre;overflow-x:auto;line-height:normal;font-family:Menlo,'DejaVu Sans Mono',consolas,'Courier New',monospace\">\n",
       "DATA LOADING: Infer data types based on the first <span style=\"color: #008080; text-decoration-color: #008080; font-weight: bold\">1000</span> rows \n",
       "\n",
       "</pre>\n"
      ],
      "text/plain": [
       "\n",
       "DATA LOADING: Infer data types based on the first \u001b[1;36m1000\u001b[0m rows \n",
       "\n"
      ]
     },
     "metadata": {},
     "output_type": "display_data"
    },
    {
     "data": {
      "text/html": [
       "<pre style=\"white-space:pre;overflow-x:auto;line-height:normal;font-family:Menlo,'DejaVu Sans Mono',consolas,'Courier New',monospace\">\n",
       "DATA LOADING: Data types inferred count\n",
       " object    <span style=\"color: #008080; text-decoration-color: #008080; font-weight: bold\">3</span>\n",
       "int64     <span style=\"color: #008080; text-decoration-color: #008080; font-weight: bold\">1</span>\n",
       "Name: count, dtype: int64\n",
       "</pre>\n"
      ],
      "text/plain": [
       "\n",
       "DATA LOADING: Data types inferred count\n",
       " object    \u001b[1;36m3\u001b[0m\n",
       "int64     \u001b[1;36m1\u001b[0m\n",
       "Name: count, dtype: int64\n"
      ]
     },
     "metadata": {},
     "output_type": "display_data"
    },
    {
     "data": {
      "text/html": [
       "<pre style=\"white-space:pre;overflow-x:auto;line-height:normal;font-family:Menlo,'DejaVu Sans Mono',consolas,'Courier New',monospace\">Initial raw data:\n",
       "</pre>\n"
      ],
      "text/plain": [
       "Initial raw data:\n"
      ]
     },
     "metadata": {},
     "output_type": "display_data"
    },
    {
     "data": {
      "text/html": [
       "<div>\n",
       "<style scoped>\n",
       "    .dataframe tbody tr th:only-of-type {\n",
       "        vertical-align: middle;\n",
       "    }\n",
       "\n",
       "    .dataframe tbody tr th {\n",
       "        vertical-align: top;\n",
       "    }\n",
       "\n",
       "    .dataframe thead th {\n",
       "        text-align: right;\n",
       "    }\n",
       "</style>\n",
       "<table border=\"1\" class=\"dataframe\">\n",
       "  <thead>\n",
       "    <tr style=\"text-align: right;\">\n",
       "      <th></th>\n",
       "      <th>tweet_id</th>\n",
       "      <th>from_platform</th>\n",
       "      <th>sentiment</th>\n",
       "      <th>tweet</th>\n",
       "    </tr>\n",
       "  </thead>\n",
       "  <tbody>\n",
       "    <tr>\n",
       "      <th>0</th>\n",
       "      <td>2401</td>\n",
       "      <td>Borderlands</td>\n",
       "      <td>Positive</td>\n",
       "      <td>im getting on borderlands and i will murder yo...</td>\n",
       "    </tr>\n",
       "    <tr>\n",
       "      <th>1</th>\n",
       "      <td>2401</td>\n",
       "      <td>Borderlands</td>\n",
       "      <td>Positive</td>\n",
       "      <td>I am coming to the borders and I will kill you...</td>\n",
       "    </tr>\n",
       "    <tr>\n",
       "      <th>2</th>\n",
       "      <td>2401</td>\n",
       "      <td>Borderlands</td>\n",
       "      <td>Positive</td>\n",
       "      <td>im getting on borderlands and i will kill you ...</td>\n",
       "    </tr>\n",
       "    <tr>\n",
       "      <th>3</th>\n",
       "      <td>2401</td>\n",
       "      <td>Borderlands</td>\n",
       "      <td>Positive</td>\n",
       "      <td>im coming on borderlands and i will murder you...</td>\n",
       "    </tr>\n",
       "    <tr>\n",
       "      <th>4</th>\n",
       "      <td>2401</td>\n",
       "      <td>Borderlands</td>\n",
       "      <td>Positive</td>\n",
       "      <td>im getting on borderlands 2 and i will murder ...</td>\n",
       "    </tr>\n",
       "  </tbody>\n",
       "</table>\n",
       "</div>"
      ],
      "text/plain": [
       "   tweet_id from_platform sentiment  \\\n",
       "0      2401   Borderlands  Positive   \n",
       "1      2401   Borderlands  Positive   \n",
       "2      2401   Borderlands  Positive   \n",
       "3      2401   Borderlands  Positive   \n",
       "4      2401   Borderlands  Positive   \n",
       "\n",
       "                                               tweet  \n",
       "0  im getting on borderlands and i will murder yo...  \n",
       "1  I am coming to the borders and I will kill you...  \n",
       "2  im getting on borderlands and i will kill you ...  \n",
       "3  im coming on borderlands and i will murder you...  \n",
       "4  im getting on borderlands 2 and i will murder ...  "
      ]
     },
     "metadata": {},
     "output_type": "display_data"
    },
    {
     "data": {
      "text/html": [
       "<pre style=\"white-space:pre;overflow-x:auto;line-height:normal;font-family:Menlo,'DejaVu Sans Mono',consolas,'Courier New',monospace\">\n",
       "Initial raw data shape:\n",
       "<span style=\"font-weight: bold\">(</span><span style=\"color: #008080; text-decoration-color: #008080; font-weight: bold\">74682</span>, <span style=\"color: #008080; text-decoration-color: #008080; font-weight: bold\">4</span><span style=\"font-weight: bold\">)</span>\n",
       "</pre>\n"
      ],
      "text/plain": [
       "\n",
       "Initial raw data shape:\n",
       "\u001b[1m(\u001b[0m\u001b[1;36m74682\u001b[0m, \u001b[1;36m4\u001b[0m\u001b[1m)\u001b[0m\n"
      ]
     },
     "metadata": {},
     "output_type": "display_data"
    }
   ],
   "source": [
    "# ML Pipeline Notebook\n",
    "\n",
    "## 1. Setup and Imports\n",
    "\n",
    "import sys\n",
    "from pathlib import Path\n",
    "\n",
    "# Add project root to Python path\n",
    "project_root = str(Path.cwd().parent)\n",
    "if project_root not in sys.path:\n",
    "    sys.path.append(project_root)\n",
    "\n",
    "# Import your modules\n",
    "import yaml\n",
    "import pandas as pd\n",
    "import numpy as np\n",
    "from rich import print\n",
    "from src.data.data_processing import DataAnalyzer, DataProcessor\n",
    "from src.features.feature_engineering import FeatureMetadata\n",
    "from src.models.model_training import ModelTrainer\n",
    "\n",
    "# Load configuration\n",
    "with open('configs/config.yml', 'r') as f:\n",
    "    config = yaml.safe_load(f)\n",
    "\n",
    "\n",
    "## 2. Data Loading and Initial Processing\n",
    "\n",
    "# Initialize DataProcessor\n",
    "data_processor = DataProcessor('configs/config.yml')\n",
    "\n",
    "# Load raw data\n",
    "raw_data_path = data_processor.config['data']['raw_data_path']\n",
    "raw_data_file_name = data_processor.config['data']['raw_data_file_name']\n",
    "\n",
    "# Load data and change columns data type\n",
    "raw_data_df = data_processor.data_load(f'{raw_data_path}{raw_data_file_name}')\n",
    "\n",
    "print('Initial raw data:')\n",
    "display(raw_data_df.head())\n",
    "print('\\nInitial raw data shape:', raw_data_df.shape)\n"
   ]
  },
  {
   "cell_type": "markdown",
   "id": "2848fc63-be24-4457-a185-f58df9dde491",
   "metadata": {},
   "source": [
    "Complete processing of all features: handling missing values, outliers, scaling, vectorize text colums, encoding categorials features, etc.."
   ]
  },
  {
   "cell_type": "code",
   "execution_count": 2,
   "id": "ed863070-ff51-4368-93d7-68287ca82ccb",
   "metadata": {},
   "outputs": [
    {
     "data": {
      "text/html": [
       "<pre style=\"white-space:pre;overflow-x:auto;line-height:normal;font-family:Menlo,'DejaVu Sans Mono',consolas,'Courier New',monospace\">\n",
       "DATA PROCESS: missing values in numeric columns\n",
       " tweet_id    <span style=\"color: #008080; text-decoration-color: #008080; font-weight: bold\">0</span>\n",
       "dtype: int64\n",
       "</pre>\n"
      ],
      "text/plain": [
       "\n",
       "DATA PROCESS: missing values in numeric columns\n",
       " tweet_id    \u001b[1;36m0\u001b[0m\n",
       "dtype: int64\n"
      ]
     },
     "metadata": {},
     "output_type": "display_data"
    },
    {
     "data": {
      "text/html": [
       "<pre style=\"white-space:pre;overflow-x:auto;line-height:normal;font-family:Menlo,'DejaVu Sans Mono',consolas,'Courier New',monospace\">\n",
       "DATA PROCESS: Missing values in numeric columns after treatment \n",
       " tweet_id    <span style=\"color: #008080; text-decoration-color: #008080; font-weight: bold\">0</span>\n",
       "dtype: int64\n",
       "</pre>\n"
      ],
      "text/plain": [
       "\n",
       "DATA PROCESS: Missing values in numeric columns after treatment \n",
       " tweet_id    \u001b[1;36m0\u001b[0m\n",
       "dtype: int64\n"
      ]
     },
     "metadata": {},
     "output_type": "display_data"
    },
    {
     "data": {
      "text/html": [
       "<pre style=\"white-space:pre;overflow-x:auto;line-height:normal;font-family:Menlo,'DejaVu Sans Mono',consolas,'Courier New',monospace\">\n",
       "DATA PROCESS: categorical_columns\n",
       " <span style=\"color: #800080; text-decoration-color: #800080; font-weight: bold\">Index</span><span style=\"font-weight: bold\">([</span><span style=\"color: #008000; text-decoration-color: #008000\">'from_platform'</span>, <span style=\"color: #008000; text-decoration-color: #008000\">'sentiment'</span>, <span style=\"color: #008000; text-decoration-color: #008000\">'tweet'</span><span style=\"font-weight: bold\">]</span>, <span style=\"color: #808000; text-decoration-color: #808000\">dtype</span>=<span style=\"color: #008000; text-decoration-color: #008000\">'object'</span><span style=\"font-weight: bold\">)</span>\n",
       "</pre>\n"
      ],
      "text/plain": [
       "\n",
       "DATA PROCESS: categorical_columns\n",
       " \u001b[1;35mIndex\u001b[0m\u001b[1m(\u001b[0m\u001b[1m[\u001b[0m\u001b[32m'from_platform'\u001b[0m, \u001b[32m'sentiment'\u001b[0m, \u001b[32m'tweet'\u001b[0m\u001b[1m]\u001b[0m, \u001b[33mdtype\u001b[0m=\u001b[32m'object'\u001b[0m\u001b[1m)\u001b[0m\n"
      ]
     },
     "metadata": {},
     "output_type": "display_data"
    },
    {
     "data": {
      "text/html": [
       "<pre style=\"white-space:pre;overflow-x:auto;line-height:normal;font-family:Menlo,'DejaVu Sans Mono',consolas,'Courier New',monospace\">\n",
       "DATA PROCESS: Data after handling missing values\n",
       "        tweet_id from_platform sentiment  \\\n",
       "<span style=\"color: #008080; text-decoration-color: #008080; font-weight: bold\">0</span>          <span style=\"color: #008080; text-decoration-color: #008080; font-weight: bold\">2401</span>   Borderlands  Positive   \n",
       "<span style=\"color: #008080; text-decoration-color: #008080; font-weight: bold\">1</span>          <span style=\"color: #008080; text-decoration-color: #008080; font-weight: bold\">2401</span>   Borderlands  Positive   \n",
       "<span style=\"color: #008080; text-decoration-color: #008080; font-weight: bold\">2</span>          <span style=\"color: #008080; text-decoration-color: #008080; font-weight: bold\">2401</span>   Borderlands  Positive   \n",
       "<span style=\"color: #008080; text-decoration-color: #008080; font-weight: bold\">3</span>          <span style=\"color: #008080; text-decoration-color: #008080; font-weight: bold\">2401</span>   Borderlands  Positive   \n",
       "<span style=\"color: #008080; text-decoration-color: #008080; font-weight: bold\">4</span>          <span style=\"color: #008080; text-decoration-color: #008080; font-weight: bold\">2401</span>   Borderlands  Positive   \n",
       "<span style=\"color: #808000; text-decoration-color: #808000\">...</span>         <span style=\"color: #808000; text-decoration-color: #808000\">...</span>           <span style=\"color: #808000; text-decoration-color: #808000\">...</span>       <span style=\"color: #808000; text-decoration-color: #808000\">...</span>   \n",
       "<span style=\"color: #008080; text-decoration-color: #008080; font-weight: bold\">74677</span>      <span style=\"color: #008080; text-decoration-color: #008080; font-weight: bold\">9200</span>        Nvidia  Positive   \n",
       "<span style=\"color: #008080; text-decoration-color: #008080; font-weight: bold\">74678</span>      <span style=\"color: #008080; text-decoration-color: #008080; font-weight: bold\">9200</span>        Nvidia  Positive   \n",
       "<span style=\"color: #008080; text-decoration-color: #008080; font-weight: bold\">74679</span>      <span style=\"color: #008080; text-decoration-color: #008080; font-weight: bold\">9200</span>        Nvidia  Positive   \n",
       "<span style=\"color: #008080; text-decoration-color: #008080; font-weight: bold\">74680</span>      <span style=\"color: #008080; text-decoration-color: #008080; font-weight: bold\">9200</span>        Nvidia  Positive   \n",
       "<span style=\"color: #008080; text-decoration-color: #008080; font-weight: bold\">74681</span>      <span style=\"color: #008080; text-decoration-color: #008080; font-weight: bold\">9200</span>        Nvidia  Positive   \n",
       "\n",
       "                                                   tweet  \n",
       "<span style=\"color: #008080; text-decoration-color: #008080; font-weight: bold\">0</span>      im getting on borderlands and i will murder yo<span style=\"color: #808000; text-decoration-color: #808000\">...</span>  \n",
       "<span style=\"color: #008080; text-decoration-color: #008080; font-weight: bold\">1</span>      I am coming to the borders and I will kill you<span style=\"color: #808000; text-decoration-color: #808000\">...</span>  \n",
       "<span style=\"color: #008080; text-decoration-color: #008080; font-weight: bold\">2</span>      im getting on borderlands and i will kill you <span style=\"color: #808000; text-decoration-color: #808000\">...</span>  \n",
       "<span style=\"color: #008080; text-decoration-color: #008080; font-weight: bold\">3</span>      im coming on borderlands and i will murder you<span style=\"color: #808000; text-decoration-color: #808000\">...</span>  \n",
       "<span style=\"color: #008080; text-decoration-color: #008080; font-weight: bold\">4</span>      im getting on borderlands <span style=\"color: #008080; text-decoration-color: #008080; font-weight: bold\">2</span> and i will murder <span style=\"color: #808000; text-decoration-color: #808000\">...</span>  \n",
       "<span style=\"color: #808000; text-decoration-color: #808000\">...</span>                                                  <span style=\"color: #808000; text-decoration-color: #808000\">...</span>  \n",
       "<span style=\"color: #008080; text-decoration-color: #008080; font-weight: bold\">74677</span>  Just realized that the Windows partition of my<span style=\"color: #808000; text-decoration-color: #808000\">...</span>  \n",
       "<span style=\"color: #008080; text-decoration-color: #008080; font-weight: bold\">74678</span>  Just realized that my Mac window partition is <span style=\"color: #808000; text-decoration-color: #808000\">...</span>  \n",
       "<span style=\"color: #008080; text-decoration-color: #008080; font-weight: bold\">74679</span>  Just realized the windows partition of my Mac <span style=\"color: #808000; text-decoration-color: #808000\">...</span>  \n",
       "<span style=\"color: #008080; text-decoration-color: #008080; font-weight: bold\">74680</span>  Just realized between the windows partition of<span style=\"color: #808000; text-decoration-color: #808000\">...</span>  \n",
       "<span style=\"color: #008080; text-decoration-color: #008080; font-weight: bold\">74681</span>  Just like the windows partition of my Mac is l<span style=\"color: #808000; text-decoration-color: #808000\">...</span>  \n",
       "\n",
       "<span style=\"font-weight: bold\">[</span><span style=\"color: #008080; text-decoration-color: #008080; font-weight: bold\">74682</span> rows x <span style=\"color: #008080; text-decoration-color: #008080; font-weight: bold\">4</span> columns<span style=\"font-weight: bold\">]</span>\n",
       "</pre>\n"
      ],
      "text/plain": [
       "\n",
       "DATA PROCESS: Data after handling missing values\n",
       "        tweet_id from_platform sentiment  \\\n",
       "\u001b[1;36m0\u001b[0m          \u001b[1;36m2401\u001b[0m   Borderlands  Positive   \n",
       "\u001b[1;36m1\u001b[0m          \u001b[1;36m2401\u001b[0m   Borderlands  Positive   \n",
       "\u001b[1;36m2\u001b[0m          \u001b[1;36m2401\u001b[0m   Borderlands  Positive   \n",
       "\u001b[1;36m3\u001b[0m          \u001b[1;36m2401\u001b[0m   Borderlands  Positive   \n",
       "\u001b[1;36m4\u001b[0m          \u001b[1;36m2401\u001b[0m   Borderlands  Positive   \n",
       "\u001b[33m...\u001b[0m         \u001b[33m...\u001b[0m           \u001b[33m...\u001b[0m       \u001b[33m...\u001b[0m   \n",
       "\u001b[1;36m74677\u001b[0m      \u001b[1;36m9200\u001b[0m        Nvidia  Positive   \n",
       "\u001b[1;36m74678\u001b[0m      \u001b[1;36m9200\u001b[0m        Nvidia  Positive   \n",
       "\u001b[1;36m74679\u001b[0m      \u001b[1;36m9200\u001b[0m        Nvidia  Positive   \n",
       "\u001b[1;36m74680\u001b[0m      \u001b[1;36m9200\u001b[0m        Nvidia  Positive   \n",
       "\u001b[1;36m74681\u001b[0m      \u001b[1;36m9200\u001b[0m        Nvidia  Positive   \n",
       "\n",
       "                                                   tweet  \n",
       "\u001b[1;36m0\u001b[0m      im getting on borderlands and i will murder yo\u001b[33m...\u001b[0m  \n",
       "\u001b[1;36m1\u001b[0m      I am coming to the borders and I will kill you\u001b[33m...\u001b[0m  \n",
       "\u001b[1;36m2\u001b[0m      im getting on borderlands and i will kill you \u001b[33m...\u001b[0m  \n",
       "\u001b[1;36m3\u001b[0m      im coming on borderlands and i will murder you\u001b[33m...\u001b[0m  \n",
       "\u001b[1;36m4\u001b[0m      im getting on borderlands \u001b[1;36m2\u001b[0m and i will murder \u001b[33m...\u001b[0m  \n",
       "\u001b[33m...\u001b[0m                                                  \u001b[33m...\u001b[0m  \n",
       "\u001b[1;36m74677\u001b[0m  Just realized that the Windows partition of my\u001b[33m...\u001b[0m  \n",
       "\u001b[1;36m74678\u001b[0m  Just realized that my Mac window partition is \u001b[33m...\u001b[0m  \n",
       "\u001b[1;36m74679\u001b[0m  Just realized the windows partition of my Mac \u001b[33m...\u001b[0m  \n",
       "\u001b[1;36m74680\u001b[0m  Just realized between the windows partition of\u001b[33m...\u001b[0m  \n",
       "\u001b[1;36m74681\u001b[0m  Just like the windows partition of my Mac is l\u001b[33m...\u001b[0m  \n",
       "\n",
       "\u001b[1m[\u001b[0m\u001b[1;36m74682\u001b[0m rows x \u001b[1;36m4\u001b[0m columns\u001b[1m]\u001b[0m\n"
      ]
     },
     "metadata": {},
     "output_type": "display_data"
    },
    {
     "data": {
      "text/html": [
       "<pre style=\"white-space:pre;overflow-x:auto;line-height:normal;font-family:Menlo,'DejaVu Sans Mono',consolas,'Courier New',monospace\">\n",
       "DATA PROCESS: row_data_column_id_index to drop:\n",
       " <span style=\"color: #008080; text-decoration-color: #008080; font-weight: bold\">-1</span>\n",
       "</pre>\n"
      ],
      "text/plain": [
       "\n",
       "DATA PROCESS: row_data_column_id_index to drop:\n",
       " \u001b[1;36m-1\u001b[0m\n"
      ]
     },
     "metadata": {},
     "output_type": "display_data"
    },
    {
     "data": {
      "text/html": [
       "<pre style=\"white-space:pre;overflow-x:auto;line-height:normal;font-family:Menlo,'DejaVu Sans Mono',consolas,'Courier New',monospace\">DATA PROCESS: No column with indexes values exist in the conf file. Nothing to drop\n",
       "</pre>\n"
      ],
      "text/plain": [
       "DATA PROCESS: No column with indexes values exist in the conf file. Nothing to drop\n"
      ]
     },
     "metadata": {},
     "output_type": "display_data"
    },
    {
     "name": "stderr",
     "output_type": "stream",
     "text": [
      "[nltk_data] Downloading package punkt to /Users/mdabo/nltk_data...\n",
      "[nltk_data]   Package punkt is already up-to-date!\n",
      "[nltk_data] Downloading package stopwords to /Users/mdabo/nltk_data...\n",
      "[nltk_data]   Package stopwords is already up-to-date!\n",
      "[nltk_data] Downloading package wordnet to /Users/mdabo/nltk_data...\n",
      "[nltk_data]   Package wordnet is already up-to-date!\n",
      "[nltk_data] Downloading package omw-1.4 to /Users/mdabo/nltk_data...\n",
      "[nltk_data]   Package omw-1.4 is already up-to-date!\n"
     ]
    },
    {
     "data": {
      "text/html": [
       "<pre style=\"white-space:pre;overflow-x:auto;line-height:normal;font-family:Menlo,'DejaVu Sans Mono',consolas,'Courier New',monospace\">\n",
       "DATA PROCESS <span style=\"font-weight: bold\">(</span>vectorization<span style=\"font-weight: bold\">)</span>: Traitement de la colonne <span style=\"color: #008000; text-decoration-color: #008000\">'tweet'</span><span style=\"color: #808000; text-decoration-color: #808000\">...</span>\n",
       "</pre>\n"
      ],
      "text/plain": [
       "\n",
       "DATA PROCESS \u001b[1m(\u001b[0mvectorization\u001b[1m)\u001b[0m: Traitement de la colonne \u001b[32m'tweet'\u001b[0m\u001b[33m...\u001b[0m\n"
      ]
     },
     "metadata": {},
     "output_type": "display_data"
    },
    {
     "data": {
      "text/html": [
       "<pre style=\"white-space:pre;overflow-x:auto;line-height:normal;font-family:Menlo,'DejaVu Sans Mono',consolas,'Courier New',monospace\">\n",
       "DATA PROCESS <span style=\"font-weight: bold\">(</span>vectorization<span style=\"font-weight: bold\">)</span>: Étape <span style=\"color: #008080; text-decoration-color: #008080; font-weight: bold\">1</span>: Nettoyage et normalisation du texte<span style=\"color: #808000; text-decoration-color: #808000\">...</span>\n",
       "</pre>\n"
      ],
      "text/plain": [
       "\n",
       "DATA PROCESS \u001b[1m(\u001b[0mvectorization\u001b[1m)\u001b[0m: Étape \u001b[1;36m1\u001b[0m: Nettoyage et normalisation du texte\u001b[33m...\u001b[0m\n"
      ]
     },
     "metadata": {},
     "output_type": "display_data"
    },
    {
     "data": {
      "text/html": [
       "<pre style=\"white-space:pre;overflow-x:auto;line-height:normal;font-family:Menlo,'DejaVu Sans Mono',consolas,'Courier New',monospace\">\n",
       "DATA PROCESS <span style=\"font-weight: bold\">(</span>vectorization<span style=\"font-weight: bold\">)</span>: Étape <span style=\"color: #008080; text-decoration-color: #008080; font-weight: bold\">2</span>: Vectorisation du texte<span style=\"color: #808000; text-decoration-color: #808000\">...</span>\n",
       "</pre>\n"
      ],
      "text/plain": [
       "\n",
       "DATA PROCESS \u001b[1m(\u001b[0mvectorization\u001b[1m)\u001b[0m: Étape \u001b[1;36m2\u001b[0m: Vectorisation du texte\u001b[33m...\u001b[0m\n"
      ]
     },
     "metadata": {},
     "output_type": "display_data"
    },
    {
     "data": {
      "text/html": [
       "<pre style=\"white-space:pre;overflow-x:auto;line-height:normal;font-family:Menlo,'DejaVu Sans Mono',consolas,'Courier New',monospace\">DATA PROCESS <span style=\"font-weight: bold\">(</span>vectorization<span style=\"font-weight: bold\">)</span>: Traitement de <span style=\"color: #008000; text-decoration-color: #008000\">'tweet'</span> terminé:\n",
       "</pre>\n"
      ],
      "text/plain": [
       "DATA PROCESS \u001b[1m(\u001b[0mvectorization\u001b[1m)\u001b[0m: Traitement de \u001b[32m'tweet'\u001b[0m terminé:\n"
      ]
     },
     "metadata": {},
     "output_type": "display_data"
    },
    {
     "data": {
      "text/html": [
       "<pre style=\"white-space:pre;overflow-x:auto;line-height:normal;font-family:Menlo,'DejaVu Sans Mono',consolas,'Courier New',monospace\">- Temps de traitement: <span style=\"color: #008080; text-decoration-color: #008080; font-weight: bold\">7.22</span> secondes\n",
       "</pre>\n"
      ],
      "text/plain": [
       "- Temps de traitement: \u001b[1;36m7.22\u001b[0m secondes\n"
      ]
     },
     "metadata": {},
     "output_type": "display_data"
    },
    {
     "data": {
      "text/html": [
       "<pre style=\"white-space:pre;overflow-x:auto;line-height:normal;font-family:Menlo,'DejaVu Sans Mono',consolas,'Courier New',monospace\">- Nombre de features créées: <span style=\"color: #008080; text-decoration-color: #008080; font-weight: bold\">50</span>\n",
       "</pre>\n"
      ],
      "text/plain": [
       "- Nombre de features créées: \u001b[1;36m50\u001b[0m\n"
      ]
     },
     "metadata": {},
     "output_type": "display_data"
    },
    {
     "data": {
      "text/html": [
       "<pre style=\"white-space:pre;overflow-x:auto;line-height:normal;font-family:Menlo,'DejaVu Sans Mono',consolas,'Courier New',monospace\">- Exemples de features: <span style=\"font-weight: bold\">[</span><span style=\"color: #008000; text-decoration-color: #008000\">'amazon'</span> <span style=\"color: #008000; text-decoration-color: #008000\">'back'</span> <span style=\"color: #008000; text-decoration-color: #008000\">'best'</span> <span style=\"color: #008000; text-decoration-color: #008000\">'ca'</span> <span style=\"color: #008000; text-decoration-color: #008000\">'day'</span><span style=\"font-weight: bold\">]</span><span style=\"color: #808000; text-decoration-color: #808000\">...</span>\n",
       "</pre>\n"
      ],
      "text/plain": [
       "- Exemples de features: \u001b[1m[\u001b[0m\u001b[32m'amazon'\u001b[0m \u001b[32m'back'\u001b[0m \u001b[32m'best'\u001b[0m \u001b[32m'ca'\u001b[0m \u001b[32m'day'\u001b[0m\u001b[1m]\u001b[0m\u001b[33m...\u001b[0m\n"
      ]
     },
     "metadata": {},
     "output_type": "display_data"
    },
    {
     "data": {
      "text/html": [
       "<pre style=\"white-space:pre;overflow-x:auto;line-height:normal;font-family:Menlo,'DejaVu Sans Mono',consolas,'Courier New',monospace\">\n",
       "DATA PROCESS <span style=\"font-weight: bold\">(</span>vectorization<span style=\"font-weight: bold\">)</span>: Traitement terminé!\n",
       "</pre>\n"
      ],
      "text/plain": [
       "\n",
       "DATA PROCESS \u001b[1m(\u001b[0mvectorization\u001b[1m)\u001b[0m: Traitement terminé!\n"
      ]
     },
     "metadata": {},
     "output_type": "display_data"
    },
    {
     "data": {
      "text/html": [
       "<pre style=\"white-space:pre;overflow-x:auto;line-height:normal;font-family:Menlo,'DejaVu Sans Mono',consolas,'Courier New',monospace\">Total des features créées: <span style=\"color: #008080; text-decoration-color: #008080; font-weight: bold\">50</span>\n",
       "</pre>\n"
      ],
      "text/plain": [
       "Total des features créées: \u001b[1;36m50\u001b[0m\n"
      ]
     },
     "metadata": {},
     "output_type": "display_data"
    },
    {
     "data": {
      "text/html": [
       "<pre style=\"white-space:pre;overflow-x:auto;line-height:normal;font-family:Menlo,'DejaVu Sans Mono',consolas,'Courier New',monospace\">Dimensions finales du DataFrame: <span style=\"font-weight: bold\">(</span><span style=\"color: #008080; text-decoration-color: #008080; font-weight: bold\">74682</span>, <span style=\"color: #008080; text-decoration-color: #008080; font-weight: bold\">53</span><span style=\"font-weight: bold\">)</span>\n",
       "</pre>\n"
      ],
      "text/plain": [
       "Dimensions finales du DataFrame: \u001b[1m(\u001b[0m\u001b[1;36m74682\u001b[0m, \u001b[1;36m53\u001b[0m\u001b[1m)\u001b[0m\n"
      ]
     },
     "metadata": {},
     "output_type": "display_data"
    },
    {
     "data": {
      "text/html": [
       "<pre style=\"white-space:pre;overflow-x:auto;line-height:normal;font-family:Menlo,'DejaVu Sans Mono',consolas,'Courier New',monospace\">\n",
       "DATA PROCESS: number of numeric columns for scalling\n",
       " <span style=\"color: #008080; text-decoration-color: #008080; font-weight: bold\">51</span>\n",
       "</pre>\n"
      ],
      "text/plain": [
       "\n",
       "DATA PROCESS: number of numeric columns for scalling\n",
       " \u001b[1;36m51\u001b[0m\n"
      ]
     },
     "metadata": {},
     "output_type": "display_data"
    },
    {
     "data": {
      "text/html": [
       "<pre style=\"white-space:pre;overflow-x:auto;line-height:normal;font-family:Menlo,'DejaVu Sans Mono',consolas,'Courier New',monospace\">DATA PROCESS: main_features specified to give more weight:  <span style=\"color: #800080; text-decoration-color: #800080; font-style: italic\">None</span>\n",
       "</pre>\n"
      ],
      "text/plain": [
       "DATA PROCESS: main_features specified to give more weight:  \u001b[3;35mNone\u001b[0m\n"
      ]
     },
     "metadata": {},
     "output_type": "display_data"
    },
    {
     "data": {
      "text/html": [
       "<pre style=\"white-space:pre;overflow-x:auto;line-height:normal;font-family:Menlo,'DejaVu Sans Mono',consolas,'Courier New',monospace\">\n",
       "DATA PROCESS: No main features <span style=\"font-weight: bold\">(</span>to prioritize by adding coeff<span style=\"font-weight: bold\">)</span> found in config file. Not adding any coeff to any \n",
       "features\n",
       "\n",
       "</pre>\n"
      ],
      "text/plain": [
       "\n",
       "DATA PROCESS: No main features \u001b[1m(\u001b[0mto prioritize by adding coeff\u001b[1m)\u001b[0m found in config file. Not adding any coeff to any \n",
       "features\n",
       "\n"
      ]
     },
     "metadata": {},
     "output_type": "display_data"
    },
    {
     "data": {
      "text/html": [
       "<pre style=\"white-space:pre;overflow-x:auto;line-height:normal;font-family:Menlo,'DejaVu Sans Mono',consolas,'Courier New',monospace\">\n",
       "DATA PROCESS: Unique values for categorial feature from_platform: \n",
       " <span style=\"font-weight: bold\">&lt;</span><span style=\"color: #ff00ff; text-decoration-color: #ff00ff; font-weight: bold\">StringArray</span><span style=\"font-weight: bold\">&gt;</span>\n",
       "<span style=\"font-weight: bold\">[</span>                      <span style=\"color: #008000; text-decoration-color: #008000\">'Borderlands'</span>,         <span style=\"color: #008000; text-decoration-color: #008000\">'CallOfDutyBlackopsColdWar'</span>,\n",
       "                            <span style=\"color: #008000; text-decoration-color: #008000\">'Amazon'</span>,                         <span style=\"color: #008000; text-decoration-color: #008000\">'Overwatch'</span>,\n",
       "                     <span style=\"color: #008000; text-decoration-color: #008000\">'Xbox(Xseries)'</span>,                             <span style=\"color: #008000; text-decoration-color: #008000\">'NBA2K'</span>,\n",
       "                             <span style=\"color: #008000; text-decoration-color: #008000\">'Dota2'</span>,                 <span style=\"color: #008000; text-decoration-color: #008000\">'PlayStation5(PS5)'</span>,\n",
       "                      <span style=\"color: #008000; text-decoration-color: #008000\">'WorldOfCraft'</span>,                             <span style=\"color: #008000; text-decoration-color: #008000\">'CS-GO'</span>,\n",
       "                            <span style=\"color: #008000; text-decoration-color: #008000\">'Google'</span>,                    <span style=\"color: #008000; text-decoration-color: #008000\">'AssassinsCreed'</span>,\n",
       "                       <span style=\"color: #008000; text-decoration-color: #008000\">'ApexLegends'</span>,                   <span style=\"color: #008000; text-decoration-color: #008000\">'LeagueOfLegends'</span>,\n",
       "                          <span style=\"color: #008000; text-decoration-color: #008000\">'Fortnite'</span>,                         <span style=\"color: #008000; text-decoration-color: #008000\">'Microsoft'</span>,\n",
       "                       <span style=\"color: #008000; text-decoration-color: #008000\">'Hearthstone'</span>,                       <span style=\"color: #008000; text-decoration-color: #008000\">'Battlefield'</span>,\n",
       " <span style=\"color: #008000; text-decoration-color: #008000\">'PlayerUnknownsBattlegrounds(PUBG)'</span>,                           <span style=\"color: #008000; text-decoration-color: #008000\">'Verizon'</span>,\n",
       "                         <span style=\"color: #008000; text-decoration-color: #008000\">'HomeDepot'</span>,                              <span style=\"color: #008000; text-decoration-color: #008000\">'FIFA'</span>,\n",
       "            <span style=\"color: #008000; text-decoration-color: #008000\">'RedDeadRedemption(RDR)'</span>,                        <span style=\"color: #008000; text-decoration-color: #008000\">'CallOfDuty'</span>,\n",
       "              <span style=\"color: #008000; text-decoration-color: #008000\">'TomClancysRainbowSix'</span>,                          <span style=\"color: #008000; text-decoration-color: #008000\">'Facebook'</span>,\n",
       "               <span style=\"color: #008000; text-decoration-color: #008000\">'GrandTheftAuto(GTA)'</span>,                         <span style=\"color: #008000; text-decoration-color: #008000\">'MaddenNFL'</span>,\n",
       "                   <span style=\"color: #008000; text-decoration-color: #008000\">'johnson&amp;johnson'</span>,                     <span style=\"color: #008000; text-decoration-color: #008000\">'Cyberpunk2077'</span>,\n",
       "              <span style=\"color: #008000; text-decoration-color: #008000\">'TomClancysGhostRecon'</span>,                            <span style=\"color: #008000; text-decoration-color: #008000\">'Nvidia'</span><span style=\"font-weight: bold\">]</span>\n",
       "Length: <span style=\"color: #008080; text-decoration-color: #008080; font-weight: bold\">32</span>, dtype: string\n",
       "</pre>\n"
      ],
      "text/plain": [
       "\n",
       "DATA PROCESS: Unique values for categorial feature from_platform: \n",
       " \u001b[1m<\u001b[0m\u001b[1;95mStringArray\u001b[0m\u001b[1m>\u001b[0m\n",
       "\u001b[1m[\u001b[0m                      \u001b[32m'Borderlands'\u001b[0m,         \u001b[32m'CallOfDutyBlackopsColdWar'\u001b[0m,\n",
       "                            \u001b[32m'Amazon'\u001b[0m,                         \u001b[32m'Overwatch'\u001b[0m,\n",
       "                     \u001b[32m'Xbox\u001b[0m\u001b[32m(\u001b[0m\u001b[32mXseries\u001b[0m\u001b[32m)\u001b[0m\u001b[32m'\u001b[0m,                             \u001b[32m'NBA2K'\u001b[0m,\n",
       "                             \u001b[32m'Dota2'\u001b[0m,                 \u001b[32m'PlayStation5\u001b[0m\u001b[32m(\u001b[0m\u001b[32mPS5\u001b[0m\u001b[32m)\u001b[0m\u001b[32m'\u001b[0m,\n",
       "                      \u001b[32m'WorldOfCraft'\u001b[0m,                             \u001b[32m'CS-GO'\u001b[0m,\n",
       "                            \u001b[32m'Google'\u001b[0m,                    \u001b[32m'AssassinsCreed'\u001b[0m,\n",
       "                       \u001b[32m'ApexLegends'\u001b[0m,                   \u001b[32m'LeagueOfLegends'\u001b[0m,\n",
       "                          \u001b[32m'Fortnite'\u001b[0m,                         \u001b[32m'Microsoft'\u001b[0m,\n",
       "                       \u001b[32m'Hearthstone'\u001b[0m,                       \u001b[32m'Battlefield'\u001b[0m,\n",
       " \u001b[32m'PlayerUnknownsBattlegrounds\u001b[0m\u001b[32m(\u001b[0m\u001b[32mPUBG\u001b[0m\u001b[32m)\u001b[0m\u001b[32m'\u001b[0m,                           \u001b[32m'Verizon'\u001b[0m,\n",
       "                         \u001b[32m'HomeDepot'\u001b[0m,                              \u001b[32m'FIFA'\u001b[0m,\n",
       "            \u001b[32m'RedDeadRedemption\u001b[0m\u001b[32m(\u001b[0m\u001b[32mRDR\u001b[0m\u001b[32m)\u001b[0m\u001b[32m'\u001b[0m,                        \u001b[32m'CallOfDuty'\u001b[0m,\n",
       "              \u001b[32m'TomClancysRainbowSix'\u001b[0m,                          \u001b[32m'Facebook'\u001b[0m,\n",
       "               \u001b[32m'GrandTheftAuto\u001b[0m\u001b[32m(\u001b[0m\u001b[32mGTA\u001b[0m\u001b[32m)\u001b[0m\u001b[32m'\u001b[0m,                         \u001b[32m'MaddenNFL'\u001b[0m,\n",
       "                   \u001b[32m'johnson&johnson'\u001b[0m,                     \u001b[32m'Cyberpunk2077'\u001b[0m,\n",
       "              \u001b[32m'TomClancysGhostRecon'\u001b[0m,                            \u001b[32m'Nvidia'\u001b[0m\u001b[1m]\u001b[0m\n",
       "Length: \u001b[1;36m32\u001b[0m, dtype: string\n"
      ]
     },
     "metadata": {},
     "output_type": "display_data"
    },
    {
     "data": {
      "text/html": [
       "<pre style=\"white-space:pre;overflow-x:auto;line-height:normal;font-family:Menlo,'DejaVu Sans Mono',consolas,'Courier New',monospace\">\n",
       "DATA PROCESS: Categorial encoded_data: \n",
       "        from_platform_categorical_encoded  sentiment_categorical_encoded\n",
       "<span style=\"color: #008080; text-decoration-color: #008080; font-weight: bold\">0</span>                                      <span style=\"color: #008080; text-decoration-color: #008080; font-weight: bold\">4</span>                              <span style=\"color: #008080; text-decoration-color: #008080; font-weight: bold\">3</span>\n",
       "<span style=\"color: #008080; text-decoration-color: #008080; font-weight: bold\">1</span>                                      <span style=\"color: #008080; text-decoration-color: #008080; font-weight: bold\">4</span>                              <span style=\"color: #008080; text-decoration-color: #008080; font-weight: bold\">3</span>\n",
       "<span style=\"color: #008080; text-decoration-color: #008080; font-weight: bold\">2</span>                                      <span style=\"color: #008080; text-decoration-color: #008080; font-weight: bold\">4</span>                              <span style=\"color: #008080; text-decoration-color: #008080; font-weight: bold\">3</span>\n",
       "<span style=\"color: #008080; text-decoration-color: #008080; font-weight: bold\">3</span>                                      <span style=\"color: #008080; text-decoration-color: #008080; font-weight: bold\">4</span>                              <span style=\"color: #008080; text-decoration-color: #008080; font-weight: bold\">3</span>\n",
       "<span style=\"color: #008080; text-decoration-color: #008080; font-weight: bold\">4</span>                                      <span style=\"color: #008080; text-decoration-color: #008080; font-weight: bold\">4</span>                              <span style=\"color: #008080; text-decoration-color: #008080; font-weight: bold\">3</span>\n",
       "<span style=\"color: #808000; text-decoration-color: #808000\">...</span>                                  <span style=\"color: #808000; text-decoration-color: #808000\">...</span>                            <span style=\"color: #808000; text-decoration-color: #808000\">...</span>\n",
       "<span style=\"color: #008080; text-decoration-color: #008080; font-weight: bold\">74677</span>                                 <span style=\"color: #008080; text-decoration-color: #008080; font-weight: bold\">21</span>                              <span style=\"color: #008080; text-decoration-color: #008080; font-weight: bold\">3</span>\n",
       "<span style=\"color: #008080; text-decoration-color: #008080; font-weight: bold\">74678</span>                                 <span style=\"color: #008080; text-decoration-color: #008080; font-weight: bold\">21</span>                              <span style=\"color: #008080; text-decoration-color: #008080; font-weight: bold\">3</span>\n",
       "<span style=\"color: #008080; text-decoration-color: #008080; font-weight: bold\">74679</span>                                 <span style=\"color: #008080; text-decoration-color: #008080; font-weight: bold\">21</span>                              <span style=\"color: #008080; text-decoration-color: #008080; font-weight: bold\">3</span>\n",
       "<span style=\"color: #008080; text-decoration-color: #008080; font-weight: bold\">74680</span>                                 <span style=\"color: #008080; text-decoration-color: #008080; font-weight: bold\">21</span>                              <span style=\"color: #008080; text-decoration-color: #008080; font-weight: bold\">3</span>\n",
       "<span style=\"color: #008080; text-decoration-color: #008080; font-weight: bold\">74681</span>                                 <span style=\"color: #008080; text-decoration-color: #008080; font-weight: bold\">21</span>                              <span style=\"color: #008080; text-decoration-color: #008080; font-weight: bold\">3</span>\n",
       "\n",
       "<span style=\"font-weight: bold\">[</span><span style=\"color: #008080; text-decoration-color: #008080; font-weight: bold\">74682</span> rows x <span style=\"color: #008080; text-decoration-color: #008080; font-weight: bold\">2</span> columns<span style=\"font-weight: bold\">]</span>\n",
       "</pre>\n"
      ],
      "text/plain": [
       "\n",
       "DATA PROCESS: Categorial encoded_data: \n",
       "        from_platform_categorical_encoded  sentiment_categorical_encoded\n",
       "\u001b[1;36m0\u001b[0m                                      \u001b[1;36m4\u001b[0m                              \u001b[1;36m3\u001b[0m\n",
       "\u001b[1;36m1\u001b[0m                                      \u001b[1;36m4\u001b[0m                              \u001b[1;36m3\u001b[0m\n",
       "\u001b[1;36m2\u001b[0m                                      \u001b[1;36m4\u001b[0m                              \u001b[1;36m3\u001b[0m\n",
       "\u001b[1;36m3\u001b[0m                                      \u001b[1;36m4\u001b[0m                              \u001b[1;36m3\u001b[0m\n",
       "\u001b[1;36m4\u001b[0m                                      \u001b[1;36m4\u001b[0m                              \u001b[1;36m3\u001b[0m\n",
       "\u001b[33m...\u001b[0m                                  \u001b[33m...\u001b[0m                            \u001b[33m...\u001b[0m\n",
       "\u001b[1;36m74677\u001b[0m                                 \u001b[1;36m21\u001b[0m                              \u001b[1;36m3\u001b[0m\n",
       "\u001b[1;36m74678\u001b[0m                                 \u001b[1;36m21\u001b[0m                              \u001b[1;36m3\u001b[0m\n",
       "\u001b[1;36m74679\u001b[0m                                 \u001b[1;36m21\u001b[0m                              \u001b[1;36m3\u001b[0m\n",
       "\u001b[1;36m74680\u001b[0m                                 \u001b[1;36m21\u001b[0m                              \u001b[1;36m3\u001b[0m\n",
       "\u001b[1;36m74681\u001b[0m                                 \u001b[1;36m21\u001b[0m                              \u001b[1;36m3\u001b[0m\n",
       "\n",
       "\u001b[1m[\u001b[0m\u001b[1;36m74682\u001b[0m rows x \u001b[1;36m2\u001b[0m columns\u001b[1m]\u001b[0m\n"
      ]
     },
     "metadata": {},
     "output_type": "display_data"
    },
    {
     "data": {
      "text/html": [
       "<pre style=\"white-space:pre;overflow-x:auto;line-height:normal;font-family:Menlo,'DejaVu Sans Mono',consolas,'Courier New',monospace\">\n",
       "DATA PROCESS: Saving processed data to a file\n",
       "\n",
       "</pre>\n"
      ],
      "text/plain": [
       "\n",
       "DATA PROCESS: Saving processed data to a file\n",
       "\n"
      ]
     },
     "metadata": {},
     "output_type": "display_data"
    },
    {
     "data": {
      "text/html": [
       "<pre style=\"white-space:pre;overflow-x:auto;line-height:normal;font-family:Menlo,'DejaVu Sans Mono',consolas,'Courier New',monospace\">Training data preprocessing completed successfully\n",
       "</pre>\n"
      ],
      "text/plain": [
       "Training data preprocessing completed successfully\n"
      ]
     },
     "metadata": {},
     "output_type": "display_data"
    },
    {
     "data": {
      "text/html": [
       "<div>\n",
       "<style scoped>\n",
       "    .dataframe tbody tr th:only-of-type {\n",
       "        vertical-align: middle;\n",
       "    }\n",
       "\n",
       "    .dataframe tbody tr th {\n",
       "        vertical-align: top;\n",
       "    }\n",
       "\n",
       "    .dataframe thead th {\n",
       "        text-align: right;\n",
       "    }\n",
       "</style>\n",
       "<table border=\"1\" class=\"dataframe\">\n",
       "  <thead>\n",
       "    <tr style=\"text-align: right;\">\n",
       "      <th></th>\n",
       "      <th>tweet_id</th>\n",
       "      <th>tweet_feature_amazon</th>\n",
       "      <th>tweet_feature_back</th>\n",
       "      <th>tweet_feature_best</th>\n",
       "      <th>tweet_feature_ca</th>\n",
       "      <th>tweet_feature_day</th>\n",
       "      <th>tweet_feature_dead</th>\n",
       "      <th>tweet_feature_even</th>\n",
       "      <th>tweet_feature_facebook</th>\n",
       "      <th>tweet_feature_fifa</th>\n",
       "      <th>...</th>\n",
       "      <th>tweet_feature_time</th>\n",
       "      <th>tweet_feature_today</th>\n",
       "      <th>tweet_feature_unk</th>\n",
       "      <th>tweet_feature_verizon</th>\n",
       "      <th>tweet_feature_want</th>\n",
       "      <th>tweet_feature_would</th>\n",
       "      <th>tweet_feature_xbox</th>\n",
       "      <th>tweet_feature_year</th>\n",
       "      <th>from_platform_categorical_encoded</th>\n",
       "      <th>sentiment_categorical_encoded</th>\n",
       "    </tr>\n",
       "  </thead>\n",
       "  <tbody>\n",
       "    <tr>\n",
       "      <th>0</th>\n",
       "      <td>-1.077848</td>\n",
       "      <td>-0.15306</td>\n",
       "      <td>-0.150595</td>\n",
       "      <td>-0.173573</td>\n",
       "      <td>-0.144926</td>\n",
       "      <td>-0.164691</td>\n",
       "      <td>-0.157454</td>\n",
       "      <td>-0.161788</td>\n",
       "      <td>-0.155673</td>\n",
       "      <td>-0.145816</td>\n",
       "      <td>...</td>\n",
       "      <td>-0.203296</td>\n",
       "      <td>-0.139249</td>\n",
       "      <td>-0.188097</td>\n",
       "      <td>-0.153392</td>\n",
       "      <td>-0.142047</td>\n",
       "      <td>-0.146367</td>\n",
       "      <td>-0.152898</td>\n",
       "      <td>-0.162519</td>\n",
       "      <td>4</td>\n",
       "      <td>3</td>\n",
       "    </tr>\n",
       "    <tr>\n",
       "      <th>1</th>\n",
       "      <td>-1.077848</td>\n",
       "      <td>-0.15306</td>\n",
       "      <td>-0.150595</td>\n",
       "      <td>-0.173573</td>\n",
       "      <td>-0.144926</td>\n",
       "      <td>-0.164691</td>\n",
       "      <td>-0.157454</td>\n",
       "      <td>-0.161788</td>\n",
       "      <td>-0.155673</td>\n",
       "      <td>-0.145816</td>\n",
       "      <td>...</td>\n",
       "      <td>-0.203296</td>\n",
       "      <td>-0.139249</td>\n",
       "      <td>-0.188097</td>\n",
       "      <td>-0.153392</td>\n",
       "      <td>-0.142047</td>\n",
       "      <td>-0.146367</td>\n",
       "      <td>-0.152898</td>\n",
       "      <td>-0.162519</td>\n",
       "      <td>4</td>\n",
       "      <td>3</td>\n",
       "    </tr>\n",
       "    <tr>\n",
       "      <th>2</th>\n",
       "      <td>-1.077848</td>\n",
       "      <td>-0.15306</td>\n",
       "      <td>-0.150595</td>\n",
       "      <td>-0.173573</td>\n",
       "      <td>-0.144926</td>\n",
       "      <td>-0.164691</td>\n",
       "      <td>-0.157454</td>\n",
       "      <td>-0.161788</td>\n",
       "      <td>-0.155673</td>\n",
       "      <td>-0.145816</td>\n",
       "      <td>...</td>\n",
       "      <td>-0.203296</td>\n",
       "      <td>-0.139249</td>\n",
       "      <td>-0.188097</td>\n",
       "      <td>-0.153392</td>\n",
       "      <td>-0.142047</td>\n",
       "      <td>-0.146367</td>\n",
       "      <td>-0.152898</td>\n",
       "      <td>-0.162519</td>\n",
       "      <td>4</td>\n",
       "      <td>3</td>\n",
       "    </tr>\n",
       "    <tr>\n",
       "      <th>3</th>\n",
       "      <td>-1.077848</td>\n",
       "      <td>-0.15306</td>\n",
       "      <td>-0.150595</td>\n",
       "      <td>-0.173573</td>\n",
       "      <td>-0.144926</td>\n",
       "      <td>-0.164691</td>\n",
       "      <td>-0.157454</td>\n",
       "      <td>-0.161788</td>\n",
       "      <td>-0.155673</td>\n",
       "      <td>-0.145816</td>\n",
       "      <td>...</td>\n",
       "      <td>-0.203296</td>\n",
       "      <td>-0.139249</td>\n",
       "      <td>-0.188097</td>\n",
       "      <td>-0.153392</td>\n",
       "      <td>-0.142047</td>\n",
       "      <td>-0.146367</td>\n",
       "      <td>-0.152898</td>\n",
       "      <td>-0.162519</td>\n",
       "      <td>4</td>\n",
       "      <td>3</td>\n",
       "    </tr>\n",
       "    <tr>\n",
       "      <th>4</th>\n",
       "      <td>-1.077848</td>\n",
       "      <td>-0.15306</td>\n",
       "      <td>-0.150595</td>\n",
       "      <td>-0.173573</td>\n",
       "      <td>-0.144926</td>\n",
       "      <td>-0.164691</td>\n",
       "      <td>-0.157454</td>\n",
       "      <td>-0.161788</td>\n",
       "      <td>-0.155673</td>\n",
       "      <td>-0.145816</td>\n",
       "      <td>...</td>\n",
       "      <td>-0.203296</td>\n",
       "      <td>-0.139249</td>\n",
       "      <td>-0.188097</td>\n",
       "      <td>-0.153392</td>\n",
       "      <td>-0.142047</td>\n",
       "      <td>-0.146367</td>\n",
       "      <td>-0.152898</td>\n",
       "      <td>-0.162519</td>\n",
       "      <td>4</td>\n",
       "      <td>3</td>\n",
       "    </tr>\n",
       "  </tbody>\n",
       "</table>\n",
       "<p>5 rows × 53 columns</p>\n",
       "</div>"
      ],
      "text/plain": [
       "   tweet_id  tweet_feature_amazon  tweet_feature_back  tweet_feature_best  \\\n",
       "0 -1.077848              -0.15306           -0.150595           -0.173573   \n",
       "1 -1.077848              -0.15306           -0.150595           -0.173573   \n",
       "2 -1.077848              -0.15306           -0.150595           -0.173573   \n",
       "3 -1.077848              -0.15306           -0.150595           -0.173573   \n",
       "4 -1.077848              -0.15306           -0.150595           -0.173573   \n",
       "\n",
       "   tweet_feature_ca  tweet_feature_day  tweet_feature_dead  \\\n",
       "0         -0.144926          -0.164691           -0.157454   \n",
       "1         -0.144926          -0.164691           -0.157454   \n",
       "2         -0.144926          -0.164691           -0.157454   \n",
       "3         -0.144926          -0.164691           -0.157454   \n",
       "4         -0.144926          -0.164691           -0.157454   \n",
       "\n",
       "   tweet_feature_even  tweet_feature_facebook  tweet_feature_fifa  ...  \\\n",
       "0           -0.161788               -0.155673           -0.145816  ...   \n",
       "1           -0.161788               -0.155673           -0.145816  ...   \n",
       "2           -0.161788               -0.155673           -0.145816  ...   \n",
       "3           -0.161788               -0.155673           -0.145816  ...   \n",
       "4           -0.161788               -0.155673           -0.145816  ...   \n",
       "\n",
       "   tweet_feature_time  tweet_feature_today  tweet_feature_unk  \\\n",
       "0           -0.203296            -0.139249          -0.188097   \n",
       "1           -0.203296            -0.139249          -0.188097   \n",
       "2           -0.203296            -0.139249          -0.188097   \n",
       "3           -0.203296            -0.139249          -0.188097   \n",
       "4           -0.203296            -0.139249          -0.188097   \n",
       "\n",
       "   tweet_feature_verizon  tweet_feature_want  tweet_feature_would  \\\n",
       "0              -0.153392           -0.142047            -0.146367   \n",
       "1              -0.153392           -0.142047            -0.146367   \n",
       "2              -0.153392           -0.142047            -0.146367   \n",
       "3              -0.153392           -0.142047            -0.146367   \n",
       "4              -0.153392           -0.142047            -0.146367   \n",
       "\n",
       "   tweet_feature_xbox  tweet_feature_year  from_platform_categorical_encoded  \\\n",
       "0           -0.152898           -0.162519                                  4   \n",
       "1           -0.152898           -0.162519                                  4   \n",
       "2           -0.152898           -0.162519                                  4   \n",
       "3           -0.152898           -0.162519                                  4   \n",
       "4           -0.152898           -0.162519                                  4   \n",
       "\n",
       "   sentiment_categorical_encoded  \n",
       "0                              3  \n",
       "1                              3  \n",
       "2                              3  \n",
       "3                              3  \n",
       "4                              3  \n",
       "\n",
       "[5 rows x 53 columns]"
      ]
     },
     "metadata": {},
     "output_type": "display_data"
    },
    {
     "data": {
      "text/html": [
       "<pre style=\"white-space:pre;overflow-x:auto;line-height:normal;font-family:Menlo,'DejaVu Sans Mono',consolas,'Courier New',monospace\">\n",
       "PROCESSING TEST DATA\n",
       "</pre>\n"
      ],
      "text/plain": [
       "\n",
       "PROCESSING TEST DATA\n"
      ]
     },
     "metadata": {},
     "output_type": "display_data"
    },
    {
     "data": {
      "text/html": [
       "<pre style=\"white-space:pre;overflow-x:auto;line-height:normal;font-family:Menlo,'DejaVu Sans Mono',consolas,'Courier New',monospace\">\n",
       "No separate test file. Creating test data from training data<span style=\"color: #808000; text-decoration-color: #808000\">...</span>\n",
       "</pre>\n"
      ],
      "text/plain": [
       "\n",
       "No separate test file. Creating test data from training data\u001b[33m...\u001b[0m\n"
      ]
     },
     "metadata": {},
     "output_type": "display_data"
    },
    {
     "data": {
      "text/html": [
       "<pre style=\"white-space:pre;overflow-x:auto;line-height:normal;font-family:Menlo,'DejaVu Sans Mono',consolas,'Courier New',monospace\">\n",
       "Saving split datasets<span style=\"color: #808000; text-decoration-color: #808000\">...</span>\n",
       "</pre>\n"
      ],
      "text/plain": [
       "\n",
       "Saving split datasets\u001b[33m...\u001b[0m\n"
      ]
     },
     "metadata": {},
     "output_type": "display_data"
    },
    {
     "data": {
      "text/html": [
       "<pre style=\"white-space:pre;overflow-x:auto;line-height:normal;font-family:Menlo,'DejaVu Sans Mono',consolas,'Courier New',monospace\">\n",
       "DATA PROCESS: Saving processed data to a file\n",
       "\n",
       "</pre>\n"
      ],
      "text/plain": [
       "\n",
       "DATA PROCESS: Saving processed data to a file\n",
       "\n"
      ]
     },
     "metadata": {},
     "output_type": "display_data"
    },
    {
     "data": {
      "text/html": [
       "<pre style=\"white-space:pre;overflow-x:auto;line-height:normal;font-family:Menlo,'DejaVu Sans Mono',consolas,'Courier New',monospace\">Training data saved successfully. Updated the processed raw data file already saved \n",
       "</pre>\n"
      ],
      "text/plain": [
       "Training data saved successfully. Updated the processed raw data file already saved \n"
      ]
     },
     "metadata": {},
     "output_type": "display_data"
    },
    {
     "data": {
      "text/html": [
       "<pre style=\"white-space:pre;overflow-x:auto;line-height:normal;font-family:Menlo,'DejaVu Sans Mono',consolas,'Courier New',monospace\">\n",
       "DATA PROCESS: Saving processed data to a file\n",
       "\n",
       "</pre>\n"
      ],
      "text/plain": [
       "\n",
       "DATA PROCESS: Saving processed data to a file\n",
       "\n"
      ]
     },
     "metadata": {},
     "output_type": "display_data"
    },
    {
     "data": {
      "text/html": [
       "<pre style=\"white-space:pre;overflow-x:auto;line-height:normal;font-family:Menlo,'DejaVu Sans Mono',consolas,'Courier New',monospace\">Test data saved successfully\n",
       "</pre>\n"
      ],
      "text/plain": [
       "Test data saved successfully\n"
      ]
     },
     "metadata": {},
     "output_type": "display_data"
    },
    {
     "data": {
      "text/html": [
       "<pre style=\"white-space:pre;overflow-x:auto;line-height:normal;font-family:Menlo,'DejaVu Sans Mono',consolas,'Courier New',monospace\">\n",
       "Final shapes:\n",
       "</pre>\n"
      ],
      "text/plain": [
       "\n",
       "Final shapes:\n"
      ]
     },
     "metadata": {},
     "output_type": "display_data"
    },
    {
     "data": {
      "text/html": [
       "<pre style=\"white-space:pre;overflow-x:auto;line-height:normal;font-family:Menlo,'DejaVu Sans Mono',consolas,'Courier New',monospace\">Training data: <span style=\"font-weight: bold\">(</span><span style=\"color: #008080; text-decoration-color: #008080; font-weight: bold\">59745</span>, <span style=\"color: #008080; text-decoration-color: #008080; font-weight: bold\">53</span><span style=\"font-weight: bold\">)</span>\n",
       "</pre>\n"
      ],
      "text/plain": [
       "Training data: \u001b[1m(\u001b[0m\u001b[1;36m59745\u001b[0m, \u001b[1;36m53\u001b[0m\u001b[1m)\u001b[0m\n"
      ]
     },
     "metadata": {},
     "output_type": "display_data"
    },
    {
     "data": {
      "text/html": [
       "<pre style=\"white-space:pre;overflow-x:auto;line-height:normal;font-family:Menlo,'DejaVu Sans Mono',consolas,'Courier New',monospace\">Test data: <span style=\"font-weight: bold\">(</span><span style=\"color: #008080; text-decoration-color: #008080; font-weight: bold\">14937</span>, <span style=\"color: #008080; text-decoration-color: #008080; font-weight: bold\">53</span><span style=\"font-weight: bold\">)</span>\n",
       "</pre>\n"
      ],
      "text/plain": [
       "Test data: \u001b[1m(\u001b[0m\u001b[1;36m14937\u001b[0m, \u001b[1;36m53\u001b[0m\u001b[1m)\u001b[0m\n"
      ]
     },
     "metadata": {},
     "output_type": "display_data"
    }
   ],
   "source": [
    "## 3. Data Preprocessing and Feature Engineering\n",
    "if raw_data_df is not None:\n",
    "\n",
    "    # Complete processing of all features: handling missing values, outliers, scaling, vectorize text colums, encoding categorials features, etc..\n",
    "    # Process training data  + save it in the processed directory\n",
    "    data_preprocessed_df = data_processor.process_data(raw_data_df, raw_data_file_name)\n",
    "    \n",
    "    if data_preprocessed_df is not None:\n",
    "        print(\"Training data preprocessing completed successfully\")\n",
    "        display(data_preprocessed_df.head())\n",
    "        \n",
    "        # PREPARE AND PROCESS TEST DATA\n",
    "        print('\\nPROCESSING TEST DATA')\n",
    "        raw_data_test_file_name = config['data']['raw_data_test_file_name']\n",
    "\n",
    "        if raw_data_test_file_name:\n",
    "            # Case 1: Separate test file exists - process it independently\n",
    "            print(f\"\\nProcessing separate test file: {raw_data_test_file_name}\")\n",
    "            raw_data_test_df = data_processor.data_load(f'{raw_data_path}/{raw_data_test_file_name}')\n",
    "            \n",
    "            if raw_data_test_df is not None:\n",
    "                # Process test data using same processor to maintain consistency + save it in the processed directory\n",
    "                data_test_preprocessed_df = data_processor.process_data(raw_data_test_df, raw_data_test_file_name)\n",
    "                \n",
    "                if data_test_preprocessed_df is not None:\n",
    "                    print(\"Test data preprocessing completed successfully\")\n",
    "                    display('\\ndata_test_preprocessed_df: ', data_test_preprocessed_df.head())\n",
    "                else:\n",
    "                    print('Test data preprocessing failed')\n",
    "            else:\n",
    "                print('Test data loading failed')    \n",
    "        else:\n",
    "            # Case 2: Create test data from training data\n",
    "            print(\"\\nNo separate test file. Creating test data from training data...\")\n",
    "            \n",
    "            # Get test size from config\n",
    "            test_size = config.get('model', {}).get('params', {}).get('test_size', 0.2)\n",
    "            \n",
    "            # Split the processed data\n",
    "            from sklearn.model_selection import train_test_split\n",
    "            train_df, test_df = train_test_split(\n",
    "                data_preprocessed_df,\n",
    "                test_size=test_size,\n",
    "                random_state=config.get('model', {}).get('params', {}).get('random_state', 42)\n",
    "            )\n",
    "            \n",
    "            # Save split datasets\n",
    "            print(\"\\nSaving split datasets...\")\n",
    "            \n",
    "            # Save training portion\n",
    "            train_file_name = raw_data_file_name\n",
    "            data_processor.save_processed_data(train_df, train_file_name) # this will update the processed raw data file already saved\n",
    "            print(f\"Training data saved successfully. Updated the processed raw data file already saved \")\n",
    "            \n",
    "            # Save test portion\n",
    "            import os\n",
    "            file_name, file_extension = os.path.splitext(raw_data_file_name)\n",
    "            test_file_name = f\"{file_name}_test{file_extension}\"\n",
    "            data_processor.save_processed_data(test_df, test_file_name)\n",
    "            print(f\"Test data saved successfully\")\n",
    "            \n",
    "            # Update preprocessed dataframes\n",
    "            data_preprocessed_df = train_df\n",
    "            data_test_preprocessed_df = test_df\n",
    "            \n",
    "            print(f\"\\nFinal shapes:\")\n",
    "            print(f\"Training data: {train_df.shape}\")\n",
    "            print(f\"Test data: {test_df.shape}\")\n",
    "    else:\n",
    "        print('Training data preprocessing failed')\n",
    "else:\n",
    "    print('Data loading failed')"
   ]
  },
  {
   "cell_type": "markdown",
   "id": "85402849-d22c-4ac4-8e65-29473d36d43c",
   "metadata": {},
   "source": [
    "PREPARE VALIDATION DATA: LOAD AND PROCESS RAW DATA TEST FILE IF EXIST or SPLIT DATA PROCESSED IN TWO PARTS (one for the train another for the test)"
   ]
  },
  {
   "cell_type": "code",
   "execution_count": 4,
   "id": "6256959f-b1a7-4a20-8f0d-d55255c2840f",
   "metadata": {},
   "outputs": [
    {
     "data": {
      "text/html": [
       "<pre style=\"white-space:pre;overflow-x:auto;line-height:normal;font-family:Menlo,'DejaVu Sans Mono',consolas,'Courier New',monospace\">\n",
       "DATA PROCESS: missing values in numeric columns\n",
       " tweet_id    <span style=\"color: #008080; text-decoration-color: #008080; font-weight: bold\">0</span>\n",
       "dtype: int64\n",
       "</pre>\n"
      ],
      "text/plain": [
       "\n",
       "DATA PROCESS: missing values in numeric columns\n",
       " tweet_id    \u001b[1;36m0\u001b[0m\n",
       "dtype: int64\n"
      ]
     },
     "metadata": {},
     "output_type": "display_data"
    },
    {
     "data": {
      "text/html": [
       "<pre style=\"white-space:pre;overflow-x:auto;line-height:normal;font-family:Menlo,'DejaVu Sans Mono',consolas,'Courier New',monospace\">\n",
       "DATA PROCESS: Missing values in numeric columns after treatment \n",
       " tweet_id    <span style=\"color: #008080; text-decoration-color: #008080; font-weight: bold\">0</span>\n",
       "dtype: int64\n",
       "</pre>\n"
      ],
      "text/plain": [
       "\n",
       "DATA PROCESS: Missing values in numeric columns after treatment \n",
       " tweet_id    \u001b[1;36m0\u001b[0m\n",
       "dtype: int64\n"
      ]
     },
     "metadata": {},
     "output_type": "display_data"
    },
    {
     "data": {
      "text/html": [
       "<pre style=\"white-space:pre;overflow-x:auto;line-height:normal;font-family:Menlo,'DejaVu Sans Mono',consolas,'Courier New',monospace\">\n",
       "DATA PROCESS: categorical_columns\n",
       " <span style=\"color: #800080; text-decoration-color: #800080; font-weight: bold\">Index</span><span style=\"font-weight: bold\">([</span><span style=\"color: #008000; text-decoration-color: #008000\">'from_platform'</span>, <span style=\"color: #008000; text-decoration-color: #008000\">'sentiment'</span>, <span style=\"color: #008000; text-decoration-color: #008000\">'tweet'</span><span style=\"font-weight: bold\">]</span>, <span style=\"color: #808000; text-decoration-color: #808000\">dtype</span>=<span style=\"color: #008000; text-decoration-color: #008000\">'object'</span><span style=\"font-weight: bold\">)</span>\n",
       "</pre>\n"
      ],
      "text/plain": [
       "\n",
       "DATA PROCESS: categorical_columns\n",
       " \u001b[1;35mIndex\u001b[0m\u001b[1m(\u001b[0m\u001b[1m[\u001b[0m\u001b[32m'from_platform'\u001b[0m, \u001b[32m'sentiment'\u001b[0m, \u001b[32m'tweet'\u001b[0m\u001b[1m]\u001b[0m, \u001b[33mdtype\u001b[0m=\u001b[32m'object'\u001b[0m\u001b[1m)\u001b[0m\n"
      ]
     },
     "metadata": {},
     "output_type": "display_data"
    },
    {
     "data": {
      "text/html": [
       "<pre style=\"white-space:pre;overflow-x:auto;line-height:normal;font-family:Menlo,'DejaVu Sans Mono',consolas,'Courier New',monospace\">\n",
       "DATA PROCESS: Data after handling missing values\n",
       "        tweet_id from_platform sentiment  \\\n",
       "<span style=\"color: #008080; text-decoration-color: #008080; font-weight: bold\">0</span>          <span style=\"color: #008080; text-decoration-color: #008080; font-weight: bold\">2401</span>   Borderlands  Positive   \n",
       "<span style=\"color: #008080; text-decoration-color: #008080; font-weight: bold\">1</span>          <span style=\"color: #008080; text-decoration-color: #008080; font-weight: bold\">2401</span>   Borderlands  Positive   \n",
       "<span style=\"color: #008080; text-decoration-color: #008080; font-weight: bold\">2</span>          <span style=\"color: #008080; text-decoration-color: #008080; font-weight: bold\">2401</span>   Borderlands  Positive   \n",
       "<span style=\"color: #008080; text-decoration-color: #008080; font-weight: bold\">3</span>          <span style=\"color: #008080; text-decoration-color: #008080; font-weight: bold\">2401</span>   Borderlands  Positive   \n",
       "<span style=\"color: #008080; text-decoration-color: #008080; font-weight: bold\">4</span>          <span style=\"color: #008080; text-decoration-color: #008080; font-weight: bold\">2401</span>   Borderlands  Positive   \n",
       "<span style=\"color: #808000; text-decoration-color: #808000\">...</span>         <span style=\"color: #808000; text-decoration-color: #808000\">...</span>           <span style=\"color: #808000; text-decoration-color: #808000\">...</span>       <span style=\"color: #808000; text-decoration-color: #808000\">...</span>   \n",
       "<span style=\"color: #008080; text-decoration-color: #008080; font-weight: bold\">74677</span>      <span style=\"color: #008080; text-decoration-color: #008080; font-weight: bold\">9200</span>        Nvidia  Positive   \n",
       "<span style=\"color: #008080; text-decoration-color: #008080; font-weight: bold\">74678</span>      <span style=\"color: #008080; text-decoration-color: #008080; font-weight: bold\">9200</span>        Nvidia  Positive   \n",
       "<span style=\"color: #008080; text-decoration-color: #008080; font-weight: bold\">74679</span>      <span style=\"color: #008080; text-decoration-color: #008080; font-weight: bold\">9200</span>        Nvidia  Positive   \n",
       "<span style=\"color: #008080; text-decoration-color: #008080; font-weight: bold\">74680</span>      <span style=\"color: #008080; text-decoration-color: #008080; font-weight: bold\">9200</span>        Nvidia  Positive   \n",
       "<span style=\"color: #008080; text-decoration-color: #008080; font-weight: bold\">74681</span>      <span style=\"color: #008080; text-decoration-color: #008080; font-weight: bold\">9200</span>        Nvidia  Positive   \n",
       "\n",
       "                                                   tweet  \n",
       "<span style=\"color: #008080; text-decoration-color: #008080; font-weight: bold\">0</span>      im getting on borderlands and i will murder yo<span style=\"color: #808000; text-decoration-color: #808000\">...</span>  \n",
       "<span style=\"color: #008080; text-decoration-color: #008080; font-weight: bold\">1</span>      I am coming to the borders and I will kill you<span style=\"color: #808000; text-decoration-color: #808000\">...</span>  \n",
       "<span style=\"color: #008080; text-decoration-color: #008080; font-weight: bold\">2</span>      im getting on borderlands and i will kill you <span style=\"color: #808000; text-decoration-color: #808000\">...</span>  \n",
       "<span style=\"color: #008080; text-decoration-color: #008080; font-weight: bold\">3</span>      im coming on borderlands and i will murder you<span style=\"color: #808000; text-decoration-color: #808000\">...</span>  \n",
       "<span style=\"color: #008080; text-decoration-color: #008080; font-weight: bold\">4</span>      im getting on borderlands <span style=\"color: #008080; text-decoration-color: #008080; font-weight: bold\">2</span> and i will murder <span style=\"color: #808000; text-decoration-color: #808000\">...</span>  \n",
       "<span style=\"color: #808000; text-decoration-color: #808000\">...</span>                                                  <span style=\"color: #808000; text-decoration-color: #808000\">...</span>  \n",
       "<span style=\"color: #008080; text-decoration-color: #008080; font-weight: bold\">74677</span>  Just realized that the Windows partition of my<span style=\"color: #808000; text-decoration-color: #808000\">...</span>  \n",
       "<span style=\"color: #008080; text-decoration-color: #008080; font-weight: bold\">74678</span>  Just realized that my Mac window partition is <span style=\"color: #808000; text-decoration-color: #808000\">...</span>  \n",
       "<span style=\"color: #008080; text-decoration-color: #008080; font-weight: bold\">74679</span>  Just realized the windows partition of my Mac <span style=\"color: #808000; text-decoration-color: #808000\">...</span>  \n",
       "<span style=\"color: #008080; text-decoration-color: #008080; font-weight: bold\">74680</span>  Just realized between the windows partition of<span style=\"color: #808000; text-decoration-color: #808000\">...</span>  \n",
       "<span style=\"color: #008080; text-decoration-color: #008080; font-weight: bold\">74681</span>  Just like the windows partition of my Mac is l<span style=\"color: #808000; text-decoration-color: #808000\">...</span>  \n",
       "\n",
       "<span style=\"font-weight: bold\">[</span><span style=\"color: #008080; text-decoration-color: #008080; font-weight: bold\">74682</span> rows x <span style=\"color: #008080; text-decoration-color: #008080; font-weight: bold\">4</span> columns<span style=\"font-weight: bold\">]</span>\n",
       "</pre>\n"
      ],
      "text/plain": [
       "\n",
       "DATA PROCESS: Data after handling missing values\n",
       "        tweet_id from_platform sentiment  \\\n",
       "\u001b[1;36m0\u001b[0m          \u001b[1;36m2401\u001b[0m   Borderlands  Positive   \n",
       "\u001b[1;36m1\u001b[0m          \u001b[1;36m2401\u001b[0m   Borderlands  Positive   \n",
       "\u001b[1;36m2\u001b[0m          \u001b[1;36m2401\u001b[0m   Borderlands  Positive   \n",
       "\u001b[1;36m3\u001b[0m          \u001b[1;36m2401\u001b[0m   Borderlands  Positive   \n",
       "\u001b[1;36m4\u001b[0m          \u001b[1;36m2401\u001b[0m   Borderlands  Positive   \n",
       "\u001b[33m...\u001b[0m         \u001b[33m...\u001b[0m           \u001b[33m...\u001b[0m       \u001b[33m...\u001b[0m   \n",
       "\u001b[1;36m74677\u001b[0m      \u001b[1;36m9200\u001b[0m        Nvidia  Positive   \n",
       "\u001b[1;36m74678\u001b[0m      \u001b[1;36m9200\u001b[0m        Nvidia  Positive   \n",
       "\u001b[1;36m74679\u001b[0m      \u001b[1;36m9200\u001b[0m        Nvidia  Positive   \n",
       "\u001b[1;36m74680\u001b[0m      \u001b[1;36m9200\u001b[0m        Nvidia  Positive   \n",
       "\u001b[1;36m74681\u001b[0m      \u001b[1;36m9200\u001b[0m        Nvidia  Positive   \n",
       "\n",
       "                                                   tweet  \n",
       "\u001b[1;36m0\u001b[0m      im getting on borderlands and i will murder yo\u001b[33m...\u001b[0m  \n",
       "\u001b[1;36m1\u001b[0m      I am coming to the borders and I will kill you\u001b[33m...\u001b[0m  \n",
       "\u001b[1;36m2\u001b[0m      im getting on borderlands and i will kill you \u001b[33m...\u001b[0m  \n",
       "\u001b[1;36m3\u001b[0m      im coming on borderlands and i will murder you\u001b[33m...\u001b[0m  \n",
       "\u001b[1;36m4\u001b[0m      im getting on borderlands \u001b[1;36m2\u001b[0m and i will murder \u001b[33m...\u001b[0m  \n",
       "\u001b[33m...\u001b[0m                                                  \u001b[33m...\u001b[0m  \n",
       "\u001b[1;36m74677\u001b[0m  Just realized that the Windows partition of my\u001b[33m...\u001b[0m  \n",
       "\u001b[1;36m74678\u001b[0m  Just realized that my Mac window partition is \u001b[33m...\u001b[0m  \n",
       "\u001b[1;36m74679\u001b[0m  Just realized the windows partition of my Mac \u001b[33m...\u001b[0m  \n",
       "\u001b[1;36m74680\u001b[0m  Just realized between the windows partition of\u001b[33m...\u001b[0m  \n",
       "\u001b[1;36m74681\u001b[0m  Just like the windows partition of my Mac is l\u001b[33m...\u001b[0m  \n",
       "\n",
       "\u001b[1m[\u001b[0m\u001b[1;36m74682\u001b[0m rows x \u001b[1;36m4\u001b[0m columns\u001b[1m]\u001b[0m\n"
      ]
     },
     "metadata": {},
     "output_type": "display_data"
    },
    {
     "data": {
      "text/html": [
       "<pre style=\"white-space:pre;overflow-x:auto;line-height:normal;font-family:Menlo,'DejaVu Sans Mono',consolas,'Courier New',monospace\">\n",
       "DATA PROCESS: row_data_column_id_index to drop:\n",
       " <span style=\"color: #008080; text-decoration-color: #008080; font-weight: bold\">-1</span>\n",
       "</pre>\n"
      ],
      "text/plain": [
       "\n",
       "DATA PROCESS: row_data_column_id_index to drop:\n",
       " \u001b[1;36m-1\u001b[0m\n"
      ]
     },
     "metadata": {},
     "output_type": "display_data"
    },
    {
     "data": {
      "text/html": [
       "<pre style=\"white-space:pre;overflow-x:auto;line-height:normal;font-family:Menlo,'DejaVu Sans Mono',consolas,'Courier New',monospace\">DATA PROCESS: No column with indexes values exist in the conf file. Nothing to drop\n",
       "</pre>\n"
      ],
      "text/plain": [
       "DATA PROCESS: No column with indexes values exist in the conf file. Nothing to drop\n"
      ]
     },
     "metadata": {},
     "output_type": "display_data"
    },
    {
     "name": "stderr",
     "output_type": "stream",
     "text": [
      "[nltk_data] Downloading package punkt to /Users/mdabo/nltk_data...\n",
      "[nltk_data]   Package punkt is already up-to-date!\n",
      "[nltk_data] Downloading package stopwords to /Users/mdabo/nltk_data...\n",
      "[nltk_data]   Package stopwords is already up-to-date!\n",
      "[nltk_data] Downloading package wordnet to /Users/mdabo/nltk_data...\n",
      "[nltk_data]   Package wordnet is already up-to-date!\n",
      "[nltk_data] Downloading package omw-1.4 to /Users/mdabo/nltk_data...\n",
      "[nltk_data]   Package omw-1.4 is already up-to-date!\n"
     ]
    },
    {
     "data": {
      "text/html": [
       "<pre style=\"white-space:pre;overflow-x:auto;line-height:normal;font-family:Menlo,'DejaVu Sans Mono',consolas,'Courier New',monospace\">\n",
       "DATA PROCESS <span style=\"font-weight: bold\">(</span>vectorization<span style=\"font-weight: bold\">)</span>: Traitement de la colonne <span style=\"color: #008000; text-decoration-color: #008000\">'tweet'</span><span style=\"color: #808000; text-decoration-color: #808000\">...</span>\n",
       "</pre>\n"
      ],
      "text/plain": [
       "\n",
       "DATA PROCESS \u001b[1m(\u001b[0mvectorization\u001b[1m)\u001b[0m: Traitement de la colonne \u001b[32m'tweet'\u001b[0m\u001b[33m...\u001b[0m\n"
      ]
     },
     "metadata": {},
     "output_type": "display_data"
    },
    {
     "data": {
      "text/html": [
       "<pre style=\"white-space:pre;overflow-x:auto;line-height:normal;font-family:Menlo,'DejaVu Sans Mono',consolas,'Courier New',monospace\">\n",
       "DATA PROCESS <span style=\"font-weight: bold\">(</span>vectorization<span style=\"font-weight: bold\">)</span>: Étape <span style=\"color: #008080; text-decoration-color: #008080; font-weight: bold\">1</span>: Nettoyage et normalisation du texte<span style=\"color: #808000; text-decoration-color: #808000\">...</span>\n",
       "</pre>\n"
      ],
      "text/plain": [
       "\n",
       "DATA PROCESS \u001b[1m(\u001b[0mvectorization\u001b[1m)\u001b[0m: Étape \u001b[1;36m1\u001b[0m: Nettoyage et normalisation du texte\u001b[33m...\u001b[0m\n"
      ]
     },
     "metadata": {},
     "output_type": "display_data"
    },
    {
     "data": {
      "text/html": [
       "<pre style=\"white-space:pre;overflow-x:auto;line-height:normal;font-family:Menlo,'DejaVu Sans Mono',consolas,'Courier New',monospace\">\n",
       "DATA PROCESS <span style=\"font-weight: bold\">(</span>vectorization<span style=\"font-weight: bold\">)</span>: Étape <span style=\"color: #008080; text-decoration-color: #008080; font-weight: bold\">2</span>: Vectorisation du texte<span style=\"color: #808000; text-decoration-color: #808000\">...</span>\n",
       "</pre>\n"
      ],
      "text/plain": [
       "\n",
       "DATA PROCESS \u001b[1m(\u001b[0mvectorization\u001b[1m)\u001b[0m: Étape \u001b[1;36m2\u001b[0m: Vectorisation du texte\u001b[33m...\u001b[0m\n"
      ]
     },
     "metadata": {},
     "output_type": "display_data"
    },
    {
     "data": {
      "text/html": [
       "<pre style=\"white-space:pre;overflow-x:auto;line-height:normal;font-family:Menlo,'DejaVu Sans Mono',consolas,'Courier New',monospace\">DATA PROCESS <span style=\"font-weight: bold\">(</span>vectorization<span style=\"font-weight: bold\">)</span>: Traitement de <span style=\"color: #008000; text-decoration-color: #008000\">'tweet'</span> terminé:\n",
       "</pre>\n"
      ],
      "text/plain": [
       "DATA PROCESS \u001b[1m(\u001b[0mvectorization\u001b[1m)\u001b[0m: Traitement de \u001b[32m'tweet'\u001b[0m terminé:\n"
      ]
     },
     "metadata": {},
     "output_type": "display_data"
    },
    {
     "data": {
      "text/html": [
       "<pre style=\"white-space:pre;overflow-x:auto;line-height:normal;font-family:Menlo,'DejaVu Sans Mono',consolas,'Courier New',monospace\">- Temps de traitement: <span style=\"color: #008080; text-decoration-color: #008080; font-weight: bold\">5.96</span> secondes\n",
       "</pre>\n"
      ],
      "text/plain": [
       "- Temps de traitement: \u001b[1;36m5.96\u001b[0m secondes\n"
      ]
     },
     "metadata": {},
     "output_type": "display_data"
    },
    {
     "data": {
      "text/html": [
       "<pre style=\"white-space:pre;overflow-x:auto;line-height:normal;font-family:Menlo,'DejaVu Sans Mono',consolas,'Courier New',monospace\">- Nombre de features créées: <span style=\"color: #008080; text-decoration-color: #008080; font-weight: bold\">50</span>\n",
       "</pre>\n"
      ],
      "text/plain": [
       "- Nombre de features créées: \u001b[1;36m50\u001b[0m\n"
      ]
     },
     "metadata": {},
     "output_type": "display_data"
    },
    {
     "data": {
      "text/html": [
       "<pre style=\"white-space:pre;overflow-x:auto;line-height:normal;font-family:Menlo,'DejaVu Sans Mono',consolas,'Courier New',monospace\">- Exemples de features: <span style=\"font-weight: bold\">[</span><span style=\"color: #008000; text-decoration-color: #008000\">'amazon'</span> <span style=\"color: #008000; text-decoration-color: #008000\">'back'</span> <span style=\"color: #008000; text-decoration-color: #008000\">'best'</span> <span style=\"color: #008000; text-decoration-color: #008000\">'ca'</span> <span style=\"color: #008000; text-decoration-color: #008000\">'day'</span><span style=\"font-weight: bold\">]</span><span style=\"color: #808000; text-decoration-color: #808000\">...</span>\n",
       "</pre>\n"
      ],
      "text/plain": [
       "- Exemples de features: \u001b[1m[\u001b[0m\u001b[32m'amazon'\u001b[0m \u001b[32m'back'\u001b[0m \u001b[32m'best'\u001b[0m \u001b[32m'ca'\u001b[0m \u001b[32m'day'\u001b[0m\u001b[1m]\u001b[0m\u001b[33m...\u001b[0m\n"
      ]
     },
     "metadata": {},
     "output_type": "display_data"
    },
    {
     "data": {
      "text/html": [
       "<pre style=\"white-space:pre;overflow-x:auto;line-height:normal;font-family:Menlo,'DejaVu Sans Mono',consolas,'Courier New',monospace\">\n",
       "DATA PROCESS <span style=\"font-weight: bold\">(</span>vectorization<span style=\"font-weight: bold\">)</span>: Traitement terminé!\n",
       "</pre>\n"
      ],
      "text/plain": [
       "\n",
       "DATA PROCESS \u001b[1m(\u001b[0mvectorization\u001b[1m)\u001b[0m: Traitement terminé!\n"
      ]
     },
     "metadata": {},
     "output_type": "display_data"
    },
    {
     "data": {
      "text/html": [
       "<pre style=\"white-space:pre;overflow-x:auto;line-height:normal;font-family:Menlo,'DejaVu Sans Mono',consolas,'Courier New',monospace\">Total des features créées: <span style=\"color: #008080; text-decoration-color: #008080; font-weight: bold\">50</span>\n",
       "</pre>\n"
      ],
      "text/plain": [
       "Total des features créées: \u001b[1;36m50\u001b[0m\n"
      ]
     },
     "metadata": {},
     "output_type": "display_data"
    },
    {
     "data": {
      "text/html": [
       "<pre style=\"white-space:pre;overflow-x:auto;line-height:normal;font-family:Menlo,'DejaVu Sans Mono',consolas,'Courier New',monospace\">Dimensions finales du DataFrame: <span style=\"font-weight: bold\">(</span><span style=\"color: #008080; text-decoration-color: #008080; font-weight: bold\">74682</span>, <span style=\"color: #008080; text-decoration-color: #008080; font-weight: bold\">53</span><span style=\"font-weight: bold\">)</span>\n",
       "</pre>\n"
      ],
      "text/plain": [
       "Dimensions finales du DataFrame: \u001b[1m(\u001b[0m\u001b[1;36m74682\u001b[0m, \u001b[1;36m53\u001b[0m\u001b[1m)\u001b[0m\n"
      ]
     },
     "metadata": {},
     "output_type": "display_data"
    },
    {
     "data": {
      "text/html": [
       "<pre style=\"white-space:pre;overflow-x:auto;line-height:normal;font-family:Menlo,'DejaVu Sans Mono',consolas,'Courier New',monospace\">\n",
       "DATA PROCESS: number of numeric columns for scalling\n",
       " <span style=\"color: #008080; text-decoration-color: #008080; font-weight: bold\">51</span>\n",
       "</pre>\n"
      ],
      "text/plain": [
       "\n",
       "DATA PROCESS: number of numeric columns for scalling\n",
       " \u001b[1;36m51\u001b[0m\n"
      ]
     },
     "metadata": {},
     "output_type": "display_data"
    },
    {
     "data": {
      "text/html": [
       "<pre style=\"white-space:pre;overflow-x:auto;line-height:normal;font-family:Menlo,'DejaVu Sans Mono',consolas,'Courier New',monospace\">DATA PROCESS: main_features specified to give more weight:  <span style=\"color: #800080; text-decoration-color: #800080; font-style: italic\">None</span>\n",
       "</pre>\n"
      ],
      "text/plain": [
       "DATA PROCESS: main_features specified to give more weight:  \u001b[3;35mNone\u001b[0m\n"
      ]
     },
     "metadata": {},
     "output_type": "display_data"
    },
    {
     "data": {
      "text/html": [
       "<pre style=\"white-space:pre;overflow-x:auto;line-height:normal;font-family:Menlo,'DejaVu Sans Mono',consolas,'Courier New',monospace\">\n",
       "DATA PROCESS: No main features <span style=\"font-weight: bold\">(</span>to prioritize by adding coeff<span style=\"font-weight: bold\">)</span> found in config file. Not adding any coeff to any \n",
       "features\n",
       "\n",
       "</pre>\n"
      ],
      "text/plain": [
       "\n",
       "DATA PROCESS: No main features \u001b[1m(\u001b[0mto prioritize by adding coeff\u001b[1m)\u001b[0m found in config file. Not adding any coeff to any \n",
       "features\n",
       "\n"
      ]
     },
     "metadata": {},
     "output_type": "display_data"
    },
    {
     "data": {
      "text/html": [
       "<pre style=\"white-space:pre;overflow-x:auto;line-height:normal;font-family:Menlo,'DejaVu Sans Mono',consolas,'Courier New',monospace\">\n",
       "DATA PROCESS: Unique values for categorial feature from_platform: \n",
       " <span style=\"font-weight: bold\">&lt;</span><span style=\"color: #ff00ff; text-decoration-color: #ff00ff; font-weight: bold\">StringArray</span><span style=\"font-weight: bold\">&gt;</span>\n",
       "<span style=\"font-weight: bold\">[</span>                      <span style=\"color: #008000; text-decoration-color: #008000\">'Borderlands'</span>,         <span style=\"color: #008000; text-decoration-color: #008000\">'CallOfDutyBlackopsColdWar'</span>,\n",
       "                            <span style=\"color: #008000; text-decoration-color: #008000\">'Amazon'</span>,                         <span style=\"color: #008000; text-decoration-color: #008000\">'Overwatch'</span>,\n",
       "                     <span style=\"color: #008000; text-decoration-color: #008000\">'Xbox(Xseries)'</span>,                             <span style=\"color: #008000; text-decoration-color: #008000\">'NBA2K'</span>,\n",
       "                             <span style=\"color: #008000; text-decoration-color: #008000\">'Dota2'</span>,                 <span style=\"color: #008000; text-decoration-color: #008000\">'PlayStation5(PS5)'</span>,\n",
       "                      <span style=\"color: #008000; text-decoration-color: #008000\">'WorldOfCraft'</span>,                             <span style=\"color: #008000; text-decoration-color: #008000\">'CS-GO'</span>,\n",
       "                            <span style=\"color: #008000; text-decoration-color: #008000\">'Google'</span>,                    <span style=\"color: #008000; text-decoration-color: #008000\">'AssassinsCreed'</span>,\n",
       "                       <span style=\"color: #008000; text-decoration-color: #008000\">'ApexLegends'</span>,                   <span style=\"color: #008000; text-decoration-color: #008000\">'LeagueOfLegends'</span>,\n",
       "                          <span style=\"color: #008000; text-decoration-color: #008000\">'Fortnite'</span>,                         <span style=\"color: #008000; text-decoration-color: #008000\">'Microsoft'</span>,\n",
       "                       <span style=\"color: #008000; text-decoration-color: #008000\">'Hearthstone'</span>,                       <span style=\"color: #008000; text-decoration-color: #008000\">'Battlefield'</span>,\n",
       " <span style=\"color: #008000; text-decoration-color: #008000\">'PlayerUnknownsBattlegrounds(PUBG)'</span>,                           <span style=\"color: #008000; text-decoration-color: #008000\">'Verizon'</span>,\n",
       "                         <span style=\"color: #008000; text-decoration-color: #008000\">'HomeDepot'</span>,                              <span style=\"color: #008000; text-decoration-color: #008000\">'FIFA'</span>,\n",
       "            <span style=\"color: #008000; text-decoration-color: #008000\">'RedDeadRedemption(RDR)'</span>,                        <span style=\"color: #008000; text-decoration-color: #008000\">'CallOfDuty'</span>,\n",
       "              <span style=\"color: #008000; text-decoration-color: #008000\">'TomClancysRainbowSix'</span>,                          <span style=\"color: #008000; text-decoration-color: #008000\">'Facebook'</span>,\n",
       "               <span style=\"color: #008000; text-decoration-color: #008000\">'GrandTheftAuto(GTA)'</span>,                         <span style=\"color: #008000; text-decoration-color: #008000\">'MaddenNFL'</span>,\n",
       "                   <span style=\"color: #008000; text-decoration-color: #008000\">'johnson&amp;johnson'</span>,                     <span style=\"color: #008000; text-decoration-color: #008000\">'Cyberpunk2077'</span>,\n",
       "              <span style=\"color: #008000; text-decoration-color: #008000\">'TomClancysGhostRecon'</span>,                            <span style=\"color: #008000; text-decoration-color: #008000\">'Nvidia'</span><span style=\"font-weight: bold\">]</span>\n",
       "Length: <span style=\"color: #008080; text-decoration-color: #008080; font-weight: bold\">32</span>, dtype: string\n",
       "</pre>\n"
      ],
      "text/plain": [
       "\n",
       "DATA PROCESS: Unique values for categorial feature from_platform: \n",
       " \u001b[1m<\u001b[0m\u001b[1;95mStringArray\u001b[0m\u001b[1m>\u001b[0m\n",
       "\u001b[1m[\u001b[0m                      \u001b[32m'Borderlands'\u001b[0m,         \u001b[32m'CallOfDutyBlackopsColdWar'\u001b[0m,\n",
       "                            \u001b[32m'Amazon'\u001b[0m,                         \u001b[32m'Overwatch'\u001b[0m,\n",
       "                     \u001b[32m'Xbox\u001b[0m\u001b[32m(\u001b[0m\u001b[32mXseries\u001b[0m\u001b[32m)\u001b[0m\u001b[32m'\u001b[0m,                             \u001b[32m'NBA2K'\u001b[0m,\n",
       "                             \u001b[32m'Dota2'\u001b[0m,                 \u001b[32m'PlayStation5\u001b[0m\u001b[32m(\u001b[0m\u001b[32mPS5\u001b[0m\u001b[32m)\u001b[0m\u001b[32m'\u001b[0m,\n",
       "                      \u001b[32m'WorldOfCraft'\u001b[0m,                             \u001b[32m'CS-GO'\u001b[0m,\n",
       "                            \u001b[32m'Google'\u001b[0m,                    \u001b[32m'AssassinsCreed'\u001b[0m,\n",
       "                       \u001b[32m'ApexLegends'\u001b[0m,                   \u001b[32m'LeagueOfLegends'\u001b[0m,\n",
       "                          \u001b[32m'Fortnite'\u001b[0m,                         \u001b[32m'Microsoft'\u001b[0m,\n",
       "                       \u001b[32m'Hearthstone'\u001b[0m,                       \u001b[32m'Battlefield'\u001b[0m,\n",
       " \u001b[32m'PlayerUnknownsBattlegrounds\u001b[0m\u001b[32m(\u001b[0m\u001b[32mPUBG\u001b[0m\u001b[32m)\u001b[0m\u001b[32m'\u001b[0m,                           \u001b[32m'Verizon'\u001b[0m,\n",
       "                         \u001b[32m'HomeDepot'\u001b[0m,                              \u001b[32m'FIFA'\u001b[0m,\n",
       "            \u001b[32m'RedDeadRedemption\u001b[0m\u001b[32m(\u001b[0m\u001b[32mRDR\u001b[0m\u001b[32m)\u001b[0m\u001b[32m'\u001b[0m,                        \u001b[32m'CallOfDuty'\u001b[0m,\n",
       "              \u001b[32m'TomClancysRainbowSix'\u001b[0m,                          \u001b[32m'Facebook'\u001b[0m,\n",
       "               \u001b[32m'GrandTheftAuto\u001b[0m\u001b[32m(\u001b[0m\u001b[32mGTA\u001b[0m\u001b[32m)\u001b[0m\u001b[32m'\u001b[0m,                         \u001b[32m'MaddenNFL'\u001b[0m,\n",
       "                   \u001b[32m'johnson&johnson'\u001b[0m,                     \u001b[32m'Cyberpunk2077'\u001b[0m,\n",
       "              \u001b[32m'TomClancysGhostRecon'\u001b[0m,                            \u001b[32m'Nvidia'\u001b[0m\u001b[1m]\u001b[0m\n",
       "Length: \u001b[1;36m32\u001b[0m, dtype: string\n"
      ]
     },
     "metadata": {},
     "output_type": "display_data"
    },
    {
     "data": {
      "text/html": [
       "<pre style=\"white-space:pre;overflow-x:auto;line-height:normal;font-family:Menlo,'DejaVu Sans Mono',consolas,'Courier New',monospace\">\n",
       "DATA PROCESS: Categorial encoded_data: \n",
       "        from_platform_categorical_encoded  sentiment_categorical_encoded\n",
       "<span style=\"color: #008080; text-decoration-color: #008080; font-weight: bold\">0</span>                                      <span style=\"color: #008080; text-decoration-color: #008080; font-weight: bold\">4</span>                              <span style=\"color: #008080; text-decoration-color: #008080; font-weight: bold\">3</span>\n",
       "<span style=\"color: #008080; text-decoration-color: #008080; font-weight: bold\">1</span>                                      <span style=\"color: #008080; text-decoration-color: #008080; font-weight: bold\">4</span>                              <span style=\"color: #008080; text-decoration-color: #008080; font-weight: bold\">3</span>\n",
       "<span style=\"color: #008080; text-decoration-color: #008080; font-weight: bold\">2</span>                                      <span style=\"color: #008080; text-decoration-color: #008080; font-weight: bold\">4</span>                              <span style=\"color: #008080; text-decoration-color: #008080; font-weight: bold\">3</span>\n",
       "<span style=\"color: #008080; text-decoration-color: #008080; font-weight: bold\">3</span>                                      <span style=\"color: #008080; text-decoration-color: #008080; font-weight: bold\">4</span>                              <span style=\"color: #008080; text-decoration-color: #008080; font-weight: bold\">3</span>\n",
       "<span style=\"color: #008080; text-decoration-color: #008080; font-weight: bold\">4</span>                                      <span style=\"color: #008080; text-decoration-color: #008080; font-weight: bold\">4</span>                              <span style=\"color: #008080; text-decoration-color: #008080; font-weight: bold\">3</span>\n",
       "<span style=\"color: #808000; text-decoration-color: #808000\">...</span>                                  <span style=\"color: #808000; text-decoration-color: #808000\">...</span>                            <span style=\"color: #808000; text-decoration-color: #808000\">...</span>\n",
       "<span style=\"color: #008080; text-decoration-color: #008080; font-weight: bold\">74677</span>                                 <span style=\"color: #008080; text-decoration-color: #008080; font-weight: bold\">21</span>                              <span style=\"color: #008080; text-decoration-color: #008080; font-weight: bold\">3</span>\n",
       "<span style=\"color: #008080; text-decoration-color: #008080; font-weight: bold\">74678</span>                                 <span style=\"color: #008080; text-decoration-color: #008080; font-weight: bold\">21</span>                              <span style=\"color: #008080; text-decoration-color: #008080; font-weight: bold\">3</span>\n",
       "<span style=\"color: #008080; text-decoration-color: #008080; font-weight: bold\">74679</span>                                 <span style=\"color: #008080; text-decoration-color: #008080; font-weight: bold\">21</span>                              <span style=\"color: #008080; text-decoration-color: #008080; font-weight: bold\">3</span>\n",
       "<span style=\"color: #008080; text-decoration-color: #008080; font-weight: bold\">74680</span>                                 <span style=\"color: #008080; text-decoration-color: #008080; font-weight: bold\">21</span>                              <span style=\"color: #008080; text-decoration-color: #008080; font-weight: bold\">3</span>\n",
       "<span style=\"color: #008080; text-decoration-color: #008080; font-weight: bold\">74681</span>                                 <span style=\"color: #008080; text-decoration-color: #008080; font-weight: bold\">21</span>                              <span style=\"color: #008080; text-decoration-color: #008080; font-weight: bold\">3</span>\n",
       "\n",
       "<span style=\"font-weight: bold\">[</span><span style=\"color: #008080; text-decoration-color: #008080; font-weight: bold\">74682</span> rows x <span style=\"color: #008080; text-decoration-color: #008080; font-weight: bold\">2</span> columns<span style=\"font-weight: bold\">]</span>\n",
       "</pre>\n"
      ],
      "text/plain": [
       "\n",
       "DATA PROCESS: Categorial encoded_data: \n",
       "        from_platform_categorical_encoded  sentiment_categorical_encoded\n",
       "\u001b[1;36m0\u001b[0m                                      \u001b[1;36m4\u001b[0m                              \u001b[1;36m3\u001b[0m\n",
       "\u001b[1;36m1\u001b[0m                                      \u001b[1;36m4\u001b[0m                              \u001b[1;36m3\u001b[0m\n",
       "\u001b[1;36m2\u001b[0m                                      \u001b[1;36m4\u001b[0m                              \u001b[1;36m3\u001b[0m\n",
       "\u001b[1;36m3\u001b[0m                                      \u001b[1;36m4\u001b[0m                              \u001b[1;36m3\u001b[0m\n",
       "\u001b[1;36m4\u001b[0m                                      \u001b[1;36m4\u001b[0m                              \u001b[1;36m3\u001b[0m\n",
       "\u001b[33m...\u001b[0m                                  \u001b[33m...\u001b[0m                            \u001b[33m...\u001b[0m\n",
       "\u001b[1;36m74677\u001b[0m                                 \u001b[1;36m21\u001b[0m                              \u001b[1;36m3\u001b[0m\n",
       "\u001b[1;36m74678\u001b[0m                                 \u001b[1;36m21\u001b[0m                              \u001b[1;36m3\u001b[0m\n",
       "\u001b[1;36m74679\u001b[0m                                 \u001b[1;36m21\u001b[0m                              \u001b[1;36m3\u001b[0m\n",
       "\u001b[1;36m74680\u001b[0m                                 \u001b[1;36m21\u001b[0m                              \u001b[1;36m3\u001b[0m\n",
       "\u001b[1;36m74681\u001b[0m                                 \u001b[1;36m21\u001b[0m                              \u001b[1;36m3\u001b[0m\n",
       "\n",
       "\u001b[1m[\u001b[0m\u001b[1;36m74682\u001b[0m rows x \u001b[1;36m2\u001b[0m columns\u001b[1m]\u001b[0m\n"
      ]
     },
     "metadata": {},
     "output_type": "display_data"
    },
    {
     "data": {
      "text/html": [
       "<pre style=\"white-space:pre;overflow-x:auto;line-height:normal;font-family:Menlo,'DejaVu Sans Mono',consolas,'Courier New',monospace\">\n",
       "DATA PROCESS: Saving processed data to a file\n",
       "\n",
       "</pre>\n"
      ],
      "text/plain": [
       "\n",
       "DATA PROCESS: Saving processed data to a file\n",
       "\n"
      ]
     },
     "metadata": {},
     "output_type": "display_data"
    },
    {
     "data": {
      "text/html": [
       "<pre style=\"white-space:pre;overflow-x:auto;line-height:normal;font-family:Menlo,'DejaVu Sans Mono',consolas,'Courier New',monospace\">Training data preprocessing completed successfully\n",
       "</pre>\n"
      ],
      "text/plain": [
       "Training data preprocessing completed successfully\n"
      ]
     },
     "metadata": {},
     "output_type": "display_data"
    },
    {
     "data": {
      "text/html": [
       "<div>\n",
       "<style scoped>\n",
       "    .dataframe tbody tr th:only-of-type {\n",
       "        vertical-align: middle;\n",
       "    }\n",
       "\n",
       "    .dataframe tbody tr th {\n",
       "        vertical-align: top;\n",
       "    }\n",
       "\n",
       "    .dataframe thead th {\n",
       "        text-align: right;\n",
       "    }\n",
       "</style>\n",
       "<table border=\"1\" class=\"dataframe\">\n",
       "  <thead>\n",
       "    <tr style=\"text-align: right;\">\n",
       "      <th></th>\n",
       "      <th>tweet_id</th>\n",
       "      <th>tweet_feature_amazon</th>\n",
       "      <th>tweet_feature_back</th>\n",
       "      <th>tweet_feature_best</th>\n",
       "      <th>tweet_feature_ca</th>\n",
       "      <th>tweet_feature_day</th>\n",
       "      <th>tweet_feature_dead</th>\n",
       "      <th>tweet_feature_even</th>\n",
       "      <th>tweet_feature_facebook</th>\n",
       "      <th>tweet_feature_fifa</th>\n",
       "      <th>...</th>\n",
       "      <th>tweet_feature_time</th>\n",
       "      <th>tweet_feature_today</th>\n",
       "      <th>tweet_feature_unk</th>\n",
       "      <th>tweet_feature_verizon</th>\n",
       "      <th>tweet_feature_want</th>\n",
       "      <th>tweet_feature_would</th>\n",
       "      <th>tweet_feature_xbox</th>\n",
       "      <th>tweet_feature_year</th>\n",
       "      <th>from_platform_categorical_encoded</th>\n",
       "      <th>sentiment_categorical_encoded</th>\n",
       "    </tr>\n",
       "  </thead>\n",
       "  <tbody>\n",
       "    <tr>\n",
       "      <th>0</th>\n",
       "      <td>-1.077848</td>\n",
       "      <td>-0.15306</td>\n",
       "      <td>-0.150595</td>\n",
       "      <td>-0.173573</td>\n",
       "      <td>-0.144926</td>\n",
       "      <td>-0.164691</td>\n",
       "      <td>-0.157454</td>\n",
       "      <td>-0.161788</td>\n",
       "      <td>-0.155673</td>\n",
       "      <td>-0.145816</td>\n",
       "      <td>...</td>\n",
       "      <td>-0.203296</td>\n",
       "      <td>-0.139249</td>\n",
       "      <td>-0.188097</td>\n",
       "      <td>-0.153392</td>\n",
       "      <td>-0.142047</td>\n",
       "      <td>-0.146367</td>\n",
       "      <td>-0.152898</td>\n",
       "      <td>-0.162519</td>\n",
       "      <td>4</td>\n",
       "      <td>3</td>\n",
       "    </tr>\n",
       "    <tr>\n",
       "      <th>1</th>\n",
       "      <td>-1.077848</td>\n",
       "      <td>-0.15306</td>\n",
       "      <td>-0.150595</td>\n",
       "      <td>-0.173573</td>\n",
       "      <td>-0.144926</td>\n",
       "      <td>-0.164691</td>\n",
       "      <td>-0.157454</td>\n",
       "      <td>-0.161788</td>\n",
       "      <td>-0.155673</td>\n",
       "      <td>-0.145816</td>\n",
       "      <td>...</td>\n",
       "      <td>-0.203296</td>\n",
       "      <td>-0.139249</td>\n",
       "      <td>-0.188097</td>\n",
       "      <td>-0.153392</td>\n",
       "      <td>-0.142047</td>\n",
       "      <td>-0.146367</td>\n",
       "      <td>-0.152898</td>\n",
       "      <td>-0.162519</td>\n",
       "      <td>4</td>\n",
       "      <td>3</td>\n",
       "    </tr>\n",
       "    <tr>\n",
       "      <th>2</th>\n",
       "      <td>-1.077848</td>\n",
       "      <td>-0.15306</td>\n",
       "      <td>-0.150595</td>\n",
       "      <td>-0.173573</td>\n",
       "      <td>-0.144926</td>\n",
       "      <td>-0.164691</td>\n",
       "      <td>-0.157454</td>\n",
       "      <td>-0.161788</td>\n",
       "      <td>-0.155673</td>\n",
       "      <td>-0.145816</td>\n",
       "      <td>...</td>\n",
       "      <td>-0.203296</td>\n",
       "      <td>-0.139249</td>\n",
       "      <td>-0.188097</td>\n",
       "      <td>-0.153392</td>\n",
       "      <td>-0.142047</td>\n",
       "      <td>-0.146367</td>\n",
       "      <td>-0.152898</td>\n",
       "      <td>-0.162519</td>\n",
       "      <td>4</td>\n",
       "      <td>3</td>\n",
       "    </tr>\n",
       "    <tr>\n",
       "      <th>3</th>\n",
       "      <td>-1.077848</td>\n",
       "      <td>-0.15306</td>\n",
       "      <td>-0.150595</td>\n",
       "      <td>-0.173573</td>\n",
       "      <td>-0.144926</td>\n",
       "      <td>-0.164691</td>\n",
       "      <td>-0.157454</td>\n",
       "      <td>-0.161788</td>\n",
       "      <td>-0.155673</td>\n",
       "      <td>-0.145816</td>\n",
       "      <td>...</td>\n",
       "      <td>-0.203296</td>\n",
       "      <td>-0.139249</td>\n",
       "      <td>-0.188097</td>\n",
       "      <td>-0.153392</td>\n",
       "      <td>-0.142047</td>\n",
       "      <td>-0.146367</td>\n",
       "      <td>-0.152898</td>\n",
       "      <td>-0.162519</td>\n",
       "      <td>4</td>\n",
       "      <td>3</td>\n",
       "    </tr>\n",
       "    <tr>\n",
       "      <th>4</th>\n",
       "      <td>-1.077848</td>\n",
       "      <td>-0.15306</td>\n",
       "      <td>-0.150595</td>\n",
       "      <td>-0.173573</td>\n",
       "      <td>-0.144926</td>\n",
       "      <td>-0.164691</td>\n",
       "      <td>-0.157454</td>\n",
       "      <td>-0.161788</td>\n",
       "      <td>-0.155673</td>\n",
       "      <td>-0.145816</td>\n",
       "      <td>...</td>\n",
       "      <td>-0.203296</td>\n",
       "      <td>-0.139249</td>\n",
       "      <td>-0.188097</td>\n",
       "      <td>-0.153392</td>\n",
       "      <td>-0.142047</td>\n",
       "      <td>-0.146367</td>\n",
       "      <td>-0.152898</td>\n",
       "      <td>-0.162519</td>\n",
       "      <td>4</td>\n",
       "      <td>3</td>\n",
       "    </tr>\n",
       "  </tbody>\n",
       "</table>\n",
       "<p>5 rows × 53 columns</p>\n",
       "</div>"
      ],
      "text/plain": [
       "   tweet_id  tweet_feature_amazon  tweet_feature_back  tweet_feature_best  \\\n",
       "0 -1.077848              -0.15306           -0.150595           -0.173573   \n",
       "1 -1.077848              -0.15306           -0.150595           -0.173573   \n",
       "2 -1.077848              -0.15306           -0.150595           -0.173573   \n",
       "3 -1.077848              -0.15306           -0.150595           -0.173573   \n",
       "4 -1.077848              -0.15306           -0.150595           -0.173573   \n",
       "\n",
       "   tweet_feature_ca  tweet_feature_day  tweet_feature_dead  \\\n",
       "0         -0.144926          -0.164691           -0.157454   \n",
       "1         -0.144926          -0.164691           -0.157454   \n",
       "2         -0.144926          -0.164691           -0.157454   \n",
       "3         -0.144926          -0.164691           -0.157454   \n",
       "4         -0.144926          -0.164691           -0.157454   \n",
       "\n",
       "   tweet_feature_even  tweet_feature_facebook  tweet_feature_fifa  ...  \\\n",
       "0           -0.161788               -0.155673           -0.145816  ...   \n",
       "1           -0.161788               -0.155673           -0.145816  ...   \n",
       "2           -0.161788               -0.155673           -0.145816  ...   \n",
       "3           -0.161788               -0.155673           -0.145816  ...   \n",
       "4           -0.161788               -0.155673           -0.145816  ...   \n",
       "\n",
       "   tweet_feature_time  tweet_feature_today  tweet_feature_unk  \\\n",
       "0           -0.203296            -0.139249          -0.188097   \n",
       "1           -0.203296            -0.139249          -0.188097   \n",
       "2           -0.203296            -0.139249          -0.188097   \n",
       "3           -0.203296            -0.139249          -0.188097   \n",
       "4           -0.203296            -0.139249          -0.188097   \n",
       "\n",
       "   tweet_feature_verizon  tweet_feature_want  tweet_feature_would  \\\n",
       "0              -0.153392           -0.142047            -0.146367   \n",
       "1              -0.153392           -0.142047            -0.146367   \n",
       "2              -0.153392           -0.142047            -0.146367   \n",
       "3              -0.153392           -0.142047            -0.146367   \n",
       "4              -0.153392           -0.142047            -0.146367   \n",
       "\n",
       "   tweet_feature_xbox  tweet_feature_year  from_platform_categorical_encoded  \\\n",
       "0           -0.152898           -0.162519                                  4   \n",
       "1           -0.152898           -0.162519                                  4   \n",
       "2           -0.152898           -0.162519                                  4   \n",
       "3           -0.152898           -0.162519                                  4   \n",
       "4           -0.152898           -0.162519                                  4   \n",
       "\n",
       "   sentiment_categorical_encoded  \n",
       "0                              3  \n",
       "1                              3  \n",
       "2                              3  \n",
       "3                              3  \n",
       "4                              3  \n",
       "\n",
       "[5 rows x 53 columns]"
      ]
     },
     "metadata": {},
     "output_type": "display_data"
    },
    {
     "data": {
      "text/html": [
       "<pre style=\"white-space:pre;overflow-x:auto;line-height:normal;font-family:Menlo,'DejaVu Sans Mono',consolas,'Courier New',monospace\">\n",
       "PROCESSING TEST DATA\n",
       "</pre>\n"
      ],
      "text/plain": [
       "\n",
       "PROCESSING TEST DATA\n"
      ]
     },
     "metadata": {},
     "output_type": "display_data"
    },
    {
     "data": {
      "text/html": [
       "<pre style=\"white-space:pre;overflow-x:auto;line-height:normal;font-family:Menlo,'DejaVu Sans Mono',consolas,'Courier New',monospace\">\n",
       "No separate test file. Creating test data from training data<span style=\"color: #808000; text-decoration-color: #808000\">...</span>\n",
       "</pre>\n"
      ],
      "text/plain": [
       "\n",
       "No separate test file. Creating test data from training data\u001b[33m...\u001b[0m\n"
      ]
     },
     "metadata": {},
     "output_type": "display_data"
    },
    {
     "data": {
      "text/html": [
       "<pre style=\"white-space:pre;overflow-x:auto;line-height:normal;font-family:Menlo,'DejaVu Sans Mono',consolas,'Courier New',monospace\">\n",
       "Saving split datasets<span style=\"color: #808000; text-decoration-color: #808000\">...</span>\n",
       "</pre>\n"
      ],
      "text/plain": [
       "\n",
       "Saving split datasets\u001b[33m...\u001b[0m\n"
      ]
     },
     "metadata": {},
     "output_type": "display_data"
    },
    {
     "data": {
      "text/html": [
       "<pre style=\"white-space:pre;overflow-x:auto;line-height:normal;font-family:Menlo,'DejaVu Sans Mono',consolas,'Courier New',monospace\">\n",
       "DATA PROCESS: Saving processed data to a file\n",
       "\n",
       "</pre>\n"
      ],
      "text/plain": [
       "\n",
       "DATA PROCESS: Saving processed data to a file\n",
       "\n"
      ]
     },
     "metadata": {},
     "output_type": "display_data"
    },
    {
     "data": {
      "text/html": [
       "<pre style=\"white-space:pre;overflow-x:auto;line-height:normal;font-family:Menlo,'DejaVu Sans Mono',consolas,'Courier New',monospace\">Training data saved successfully\n",
       "</pre>\n"
      ],
      "text/plain": [
       "Training data saved successfully\n"
      ]
     },
     "metadata": {},
     "output_type": "display_data"
    },
    {
     "data": {
      "text/html": [
       "<pre style=\"white-space:pre;overflow-x:auto;line-height:normal;font-family:Menlo,'DejaVu Sans Mono',consolas,'Courier New',monospace\">\n",
       "DATA PROCESS: Saving processed data to a file\n",
       "\n",
       "</pre>\n"
      ],
      "text/plain": [
       "\n",
       "DATA PROCESS: Saving processed data to a file\n",
       "\n"
      ]
     },
     "metadata": {},
     "output_type": "display_data"
    },
    {
     "data": {
      "text/html": [
       "<pre style=\"white-space:pre;overflow-x:auto;line-height:normal;font-family:Menlo,'DejaVu Sans Mono',consolas,'Courier New',monospace\">Test data saved successfully\n",
       "</pre>\n"
      ],
      "text/plain": [
       "Test data saved successfully\n"
      ]
     },
     "metadata": {},
     "output_type": "display_data"
    },
    {
     "data": {
      "text/html": [
       "<pre style=\"white-space:pre;overflow-x:auto;line-height:normal;font-family:Menlo,'DejaVu Sans Mono',consolas,'Courier New',monospace\">\n",
       "Final shapes:\n",
       "</pre>\n"
      ],
      "text/plain": [
       "\n",
       "Final shapes:\n"
      ]
     },
     "metadata": {},
     "output_type": "display_data"
    },
    {
     "data": {
      "text/html": [
       "<pre style=\"white-space:pre;overflow-x:auto;line-height:normal;font-family:Menlo,'DejaVu Sans Mono',consolas,'Courier New',monospace\">Training data: <span style=\"font-weight: bold\">(</span><span style=\"color: #008080; text-decoration-color: #008080; font-weight: bold\">59745</span>, <span style=\"color: #008080; text-decoration-color: #008080; font-weight: bold\">53</span><span style=\"font-weight: bold\">)</span>\n",
       "</pre>\n"
      ],
      "text/plain": [
       "Training data: \u001b[1m(\u001b[0m\u001b[1;36m59745\u001b[0m, \u001b[1;36m53\u001b[0m\u001b[1m)\u001b[0m\n"
      ]
     },
     "metadata": {},
     "output_type": "display_data"
    },
    {
     "data": {
      "text/html": [
       "<pre style=\"white-space:pre;overflow-x:auto;line-height:normal;font-family:Menlo,'DejaVu Sans Mono',consolas,'Courier New',monospace\">Test data: <span style=\"font-weight: bold\">(</span><span style=\"color: #008080; text-decoration-color: #008080; font-weight: bold\">14937</span>, <span style=\"color: #008080; text-decoration-color: #008080; font-weight: bold\">53</span><span style=\"font-weight: bold\">)</span>\n",
       "</pre>\n"
      ],
      "text/plain": [
       "Test data: \u001b[1m(\u001b[0m\u001b[1;36m14937\u001b[0m, \u001b[1;36m53\u001b[0m\u001b[1m)\u001b[0m\n"
      ]
     },
     "metadata": {},
     "output_type": "display_data"
    }
   ],
   "source": [
    "## 3. Data Preprocessing and Feature Engineering\n",
    "if raw_data_df is not None:\n",
    "    # Process training data\n",
    "    data_preprocessed_df = data_processor.process_data(raw_data_df, raw_data_file_name)\n",
    "    \n",
    "    if data_preprocessed_df is not None:\n",
    "        print(\"Training data preprocessing completed successfully\")\n",
    "        display(data_preprocessed_df.head())\n",
    "        \n",
    "        # PREPARE AND PROCESS TEST DATA\n",
    "        print('\\nPROCESSING TEST DATA')\n",
    "        raw_data_test_file_name = config['data']['raw_data_test_file_name']\n",
    "\n",
    "        if raw_data_test_file_name:\n",
    "            # Case 1: Separate test file exists - process it independently\n",
    "            print(f\"\\nProcessing separate test file: {raw_data_test_file_name}\")\n",
    "            raw_data_test_df = data_processor.data_load(f'{raw_data_path}/{raw_data_test_file_name}')\n",
    "            \n",
    "            if raw_data_test_df is not None:\n",
    "                # Process test data using same processor to maintain consistency\n",
    "                data_test_preprocessed_df = data_processor.process_data(raw_data_test_df, raw_data_test_file_name)\n",
    "                \n",
    "                if data_test_preprocessed_df is not None:\n",
    "                    print(\"Test data preprocessing completed successfully\")\n",
    "                    display(data_test_preprocessed_df.head())\n",
    "                else:\n",
    "                    print('Test data preprocessing failed')\n",
    "            else:\n",
    "                print('Test data loading failed')    \n",
    "        else:\n",
    "            # Case 2: Create test data from training data\n",
    "            print(\"\\nNo separate test file. Creating test data from training data...\")\n",
    "            \n",
    "            # Get test size from config\n",
    "            test_size = config.get('model', {}).get('params', {}).get('test_size', 0.2)\n",
    "            \n",
    "            # Split the processed data\n",
    "            from sklearn.model_selection import train_test_split\n",
    "            train_df, test_df = train_test_split(\n",
    "                data_preprocessed_df,\n",
    "                test_size=test_size,\n",
    "                random_state=config.get('model', {}).get('params', {}).get('random_state', 42)\n",
    "            )\n",
    "            \n",
    "            # Save split datasets\n",
    "            print(\"\\nSaving split datasets...\")\n",
    "            \n",
    "            # Save training portion\n",
    "            train_file_name = raw_data_file_name\n",
    "            data_processor.save_processed_data(train_df, train_file_name)\n",
    "            print(f\"Training data saved successfully\")\n",
    "            \n",
    "            # Save test portion\n",
    "            import os\n",
    "            file_name, file_extension = os.path.splitext(raw_data_file_name)\n",
    "            test_file_name = f\"{file_name}_test{file_extension}\"\n",
    "            data_processor.save_processed_data(test_df, test_file_name)\n",
    "            print(f\"Test data saved successfully\")\n",
    "            \n",
    "            # Update preprocessed dataframes\n",
    "            data_preprocessed_df = train_df\n",
    "            data_test_preprocessed_df = test_df\n",
    "            \n",
    "            print(f\"\\nFinal shapes:\")\n",
    "            print(f\"Training data: {train_df.shape}\")\n",
    "            print(f\"Test data: {test_df.shape}\")\n",
    "    else:\n",
    "        print('Training data preprocessing failed')\n",
    "else:\n",
    "    print('Data loading failed')"
   ]
  },
  {
   "cell_type": "code",
   "execution_count": null,
   "id": "9751e269-5671-4ca8-be77-afa2f605d29f",
   "metadata": {},
   "outputs": [],
   "source": [
    "## 4. Data Analysis and Insights\n",
    "\n",
    "# Initialize analyzer\n",
    "data_analyser = DataAnalyzer(data_preprocessed_df)\n",
    "\n",
    "# Generate and display summary\n",
    "summary = data_analyser.generate_summary()\n",
    "print('\\nData summary after process and analysis:')\n",
    "print(summary)\n",
    "\n",
    "# Plot correlations\n",
    "data_analyser.plot_correlations()"
   ]
  },
  {
   "cell_type": "markdown",
   "id": "791c3931-a324-4d66-bdb3-586823cb6959",
   "metadata": {},
   "source": [
    "JUST FOR TEST"
   ]
  },
  {
   "cell_type": "code",
   "execution_count": null,
   "id": "64f496c2-943f-486c-a4b0-027382d09056",
   "metadata": {},
   "outputs": [],
   "source": [
    "np.random.seed = (123)\n",
    "mu, sigma = 5, 1\n",
    "x_train_1_1 = np.random.normal(mu,sigma,10)\n",
    "x_train_1_2 = np.random.normal(2,9,10)\n",
    "\n",
    "x_train_2_1 = np.random.normal(11,18,10)\n",
    "x_train_2_2 = np.random.normal(19,22,10)\n",
    "\n",
    "x_train_3_1 = np.random.normal(25,29,10)\n",
    "x_train_3_2 = np.random.normal(30,43,10)\n",
    "\n",
    "print('\\n x_train_1_1: ', x_train_1_1)\n",
    "print('\\n x_train_2_2: ', x_train_2_2)\n",
    "\n",
    "print('\\n concate de x_train_1_1, x_train_2_2: ', np.concatenate([x_train_1_1, x_train_2_2]))\n",
    "\n",
    "x_train = np.stack([\n",
    "                   np.concatenate([x_train_1_1, x_train_2_1, x_train_3_1]),\n",
    "                   np.concatenate([x_train_1_2, x_train_2_2, x_train_3_2]),\n",
    "                   ],\n",
    "                   axis=1)\n",
    "\n",
    "x_train"
   ]
  },
  {
   "cell_type": "code",
   "execution_count": 5,
   "id": "638b16ab-c4b0-437e-9da6-be9b03ac0049",
   "metadata": {},
   "outputs": [
    {
     "data": {
      "text/html": [
       "<pre style=\"white-space:pre;overflow-x:auto;line-height:normal;font-family:Menlo,'DejaVu Sans Mono',consolas,'Courier New',monospace\">Features shape:\n",
       "<span style=\"font-weight: bold\">(</span><span style=\"color: #008080; text-decoration-color: #008080; font-weight: bold\">59745</span>, <span style=\"color: #008080; text-decoration-color: #008080; font-weight: bold\">52</span><span style=\"font-weight: bold\">)</span>\n",
       "</pre>\n"
      ],
      "text/plain": [
       "Features shape:\n",
       "\u001b[1m(\u001b[0m\u001b[1;36m59745\u001b[0m, \u001b[1;36m52\u001b[0m\u001b[1m)\u001b[0m\n"
      ]
     },
     "metadata": {},
     "output_type": "display_data"
    },
    {
     "data": {
      "text/html": [
       "<pre style=\"white-space:pre;overflow-x:auto;line-height:normal;font-family:Menlo,'DejaVu Sans Mono',consolas,'Courier New',monospace\">Target shape:\n",
       "<span style=\"font-weight: bold\">(</span><span style=\"color: #008080; text-decoration-color: #008080; font-weight: bold\">59745</span>,<span style=\"font-weight: bold\">)</span>\n",
       "</pre>\n"
      ],
      "text/plain": [
       "Target shape:\n",
       "\u001b[1m(\u001b[0m\u001b[1;36m59745\u001b[0m,\u001b[1m)\u001b[0m\n"
      ]
     },
     "metadata": {},
     "output_type": "display_data"
    }
   ],
   "source": [
    "## 5. Model Training Preparation\n",
    "\n",
    "# Prepare features and target\n",
    "target_column_name = data_processor.config['data']['raw_data_target_column']['name']\n",
    "target_column_type = data_processor.config['data']['raw_data_target_column']['type']\n",
    "\n",
    "if target_column_type == 'categorical':\n",
    "    target_column_name = f'{target_column_name}_categorical_encoded' # By convention, the data process phase add the word \"_categorical_encoded\" to each encoded categorical feature\n",
    "\n",
    "if target_column_name in data_preprocessed_df.columns:\n",
    "    X = data_preprocessed_df.drop(columns=[target_column_name])\n",
    "    y = data_preprocessed_df[target_column_name]\n",
    "else:\n",
    "    X = data_preprocessed_df\n",
    "    y = None\n",
    "\n",
    "print(\"Features shape:\", X.shape)\n",
    "if y is not None:\n",
    "    print(\"Target shape:\", y.shape)\n",
    "else:\n",
    "    print('No target (or valid target) defined in the conf file -> Non supervised learning will be applied !')"
   ]
  },
  {
   "cell_type": "code",
   "execution_count": null,
   "id": "12716998-c3bf-4bed-820b-05569532e7dd",
   "metadata": {},
   "outputs": [],
   "source": [
    "## 6. Model Training and Evaluation\n",
    "\n",
    "#print('Start training')\n",
    "# Initialize trainer\n",
    "#trainer = ModelTrainer(data_processor.config)\n",
    "\n",
    "# Train model\n",
    "#metrics = trainer.train_model(X, y)\n",
    "#print(\"\\nTraining metrics:\")\n",
    "#print(metrics)\n",
    "\n",
    "# Cross-validation if applicable\n",
    "#if y is not None:\n",
    "#    cv_results = trainer.cross_validate(X, y)\n",
    "#    print(\"\\nCross-validation results:\")\n",
    "#    print(cv_results)\n",
    "\n",
    "# Feature importance\n",
    "#importance = trainer.get_feature_importance()\n",
    "#if importance:\n",
    "#    import matplotlib.pyplot as plt\n",
    "#    plt.figure(figsize=(10, 6))\n",
    "#    features = list(importance.keys())\n",
    "#    values = list(importance.values())\n",
    "#    plt.barh(features, values)\n",
    "#    plt.title('Feature Importance')\n",
    "#    plt.xlabel('Importance')\n",
    "#    plt.show()"
   ]
  },
  {
   "cell_type": "code",
   "execution_count": null,
   "id": "53ab1504-09b3-474a-a705-1dc618cd42eb",
   "metadata": {},
   "outputs": [],
   "source": [
    "## 7. Model Saving\n",
    "\n",
    "# Save model and history\n",
    "#model_name = config['model']['name']\n",
    "#model_version = config['model']['version']\n",
    "#save_path = f\"../models/{model_name}_{model_version}\"\n",
    "#trainer.save_model(save_path)\n",
    "#print(f\"Model saved to {save_path}\")"
   ]
  }
 ],
 "metadata": {
  "kernelspec": {
   "display_name": "Python 3 (ipykernel)",
   "language": "python",
   "name": "python3"
  },
  "language_info": {
   "codemirror_mode": {
    "name": "ipython",
    "version": 3
   },
   "file_extension": ".py",
   "mimetype": "text/x-python",
   "name": "python",
   "nbconvert_exporter": "python",
   "pygments_lexer": "ipython3",
   "version": "3.12.7"
  }
 },
 "nbformat": 4,
 "nbformat_minor": 5
}
